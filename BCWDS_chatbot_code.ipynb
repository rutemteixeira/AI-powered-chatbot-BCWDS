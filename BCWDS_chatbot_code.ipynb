{
 "cells": [
  {
   "cell_type": "markdown",
   "metadata": {},
   "source": [
    "<div class=\"alert alert-block alert-info\">\n",
    "  <center style=\"font-size: 2em;\">Case 4 - Fidelidade</center>\n",
    "  <center style=\"font-size: 1.5em;\">Group T</center>\n",
    "  <center style=\"font-size: 1.2em;\">Spring Semester/2025</center>\n",
    "</div>"
   ]
  },
  {
   "cell_type": "markdown",
   "metadata": {},
   "source": [
    " #### This Project was made by:"
   ]
  },
  {
   "cell_type": "markdown",
   "metadata": {},
   "source": [
    "André Lourenço <br>\n",
    "20240743 <br>\n",
    "20240743@novaims.unl.pt <br>\n",
    "\n",
    "Emir Kamiloglu <br>\n",
    "20240945 <br>\n",
    "20240945@novaims.unl.pt <br>\n",
    "\n",
    "Manuel Andrade <br>\n",
    "20240571 <br>\n",
    "20240571@novaims.unl.pt <br>\n",
    "\n",
    "Victor Silva <br>\n",
    "20240663 <br>\n",
    "20240663@novaims.unl.pt  <br>\n",
    "\n",
    "Rute D’Alva Teixeira <br>\n",
    "20240667 <br>\n",
    "20240667@novaims.unl.pt <br>"
   ]
  },
  {
   "cell_type": "markdown",
   "metadata": {},
   "source": [
    "# Table of Contents"
   ]
  },
  {
   "cell_type": "markdown",
   "metadata": {},
   "source": [
    "**1. [Environment Setup](#setup)**\n",
    "- 1.1 [Required Installs](#pip)\n",
    "- 1.2 [Importing Libraries](#libraries)\n",
    "- 1.3 [Initializing Azure OpenAI Client](#client)\n",
    "\n",
    "\n",
    "**2. [Text Pre-Processing](#preprocess)**\n",
    "- 2.1 [PDF Text and Image Extraction](#extraction)\n",
    "- 2.2 [Loading Extracted Text](#loading)\n",
    "- 2.3 [Text Chunking](#chunking)\n",
    "\n",
    "\n",
    "**3. [RAG - Retrieval Augmentation System](#RAG)**\n",
    "- 3.1 [Getting Text Embeddings](#embeddings)  \n",
    "- 3.2 [Building FAISS Index](#faiss)  \n",
    "- 3.3 [Searching the Index](#index)  \n",
    "\n",
    "**4. [Chatbot Setup](#chatbot-setup)**\n",
    "- 4.1 [Token-Aware Chunk Truncation](#truncation)  \n",
    "- 4.2 [Defining and Querying the Chatbot](#chatbot)  \n",
    "\n",
    "**5. [Performance evaluation](#evaluation)**  \n",
    "- 5.1 [Defining Evaluation Criteria](#criteria)  \n",
    "- 5.2 [Defining Test Dictionaries](#testing)  \n",
    "- 5.3 [Evaluation Results](#results)\n",
    "\n",
    "**6. [Exporting variables for interface](#export)**  \n"
   ]
  },
  {
   "cell_type": "markdown",
   "metadata": {},
   "source": [
    "\n",
    "<a class=\"anchor\" id=\"setup\"></a>\n",
    "\n",
    "# 1. Environment Setup"
   ]
  },
  {
   "cell_type": "markdown",
   "metadata": {},
   "source": [
    "<a class=\"anchor\" id=\"pip\"></a>\n",
    "\n",
    "## 1.1 Required Installs"
   ]
  },
  {
   "cell_type": "code",
   "execution_count": 6,
   "metadata": {},
   "outputs": [
    {
     "name": "stdout",
     "output_type": "stream",
     "text": [
      "Requirement already satisfied: pdfplumber in c:\\programdata\\anaconda3\\lib\\site-packages (0.11.6)\n",
      "Requirement already satisfied: pymupdf in c:\\programdata\\anaconda3\\lib\\site-packages (1.25.5)\n",
      "Requirement already satisfied: faiss-cpu in c:\\programdata\\anaconda3\\lib\\site-packages (1.11.0)\n",
      "Requirement already satisfied: openai in c:\\programdata\\anaconda3\\lib\\site-packages (1.91.0)\n",
      "Requirement already satisfied: tiktoken in c:\\programdata\\anaconda3\\lib\\site-packages (0.9.0)\n",
      "Requirement already satisfied: pdfminer.six==20250327 in c:\\programdata\\anaconda3\\lib\\site-packages (from pdfplumber) (20250327)\n",
      "Requirement already satisfied: Pillow>=9.1 in c:\\programdata\\anaconda3\\lib\\site-packages (from pdfplumber) (10.3.0)\n",
      "Requirement already satisfied: pypdfium2>=4.18.0 in c:\\programdata\\anaconda3\\lib\\site-packages (from pdfplumber) (4.30.1)\n",
      "Requirement already satisfied: charset-normalizer>=2.0.0 in c:\\programdata\\anaconda3\\lib\\site-packages (from pdfminer.six==20250327->pdfplumber) (2.0.4)\n",
      "Requirement already satisfied: cryptography>=36.0.0 in c:\\programdata\\anaconda3\\lib\\site-packages (from pdfminer.six==20250327->pdfplumber) (45.0.2)\n",
      "Requirement already satisfied: numpy<3.0,>=1.25.0 in c:\\programdata\\anaconda3\\lib\\site-packages (from faiss-cpu) (2.2.6)\n",
      "Requirement already satisfied: packaging in c:\\programdata\\anaconda3\\lib\\site-packages (from faiss-cpu) (23.2)\n",
      "Requirement already satisfied: anyio<5,>=3.5.0 in c:\\programdata\\anaconda3\\lib\\site-packages (from openai) (4.2.0)\n",
      "Requirement already satisfied: distro<2,>=1.7.0 in c:\\programdata\\anaconda3\\lib\\site-packages (from openai) (1.9.0)\n",
      "Requirement already satisfied: httpx<1,>=0.23.0 in c:\\programdata\\anaconda3\\lib\\site-packages (from openai) (0.27.0)\n",
      "Requirement already satisfied: jiter<1,>=0.4.0 in c:\\programdata\\anaconda3\\lib\\site-packages (from openai) (0.10.0)\n",
      "Requirement already satisfied: pydantic<3,>=1.9.0 in c:\\programdata\\anaconda3\\lib\\site-packages (from openai) (2.10.3)\n",
      "Requirement already satisfied: sniffio in c:\\programdata\\anaconda3\\lib\\site-packages (from openai) (1.3.0)\n",
      "Requirement already satisfied: tqdm>4 in c:\\programdata\\anaconda3\\lib\\site-packages (from openai) (4.66.4)\n",
      "Requirement already satisfied: typing-extensions<5,>=4.11 in c:\\programdata\\anaconda3\\lib\\site-packages (from openai) (4.12.2)\n",
      "Requirement already satisfied: idna>=2.8 in c:\\programdata\\anaconda3\\lib\\site-packages (from anyio<5,>=3.5.0->openai) (3.7)\n",
      "Requirement already satisfied: certifi in c:\\programdata\\anaconda3\\lib\\site-packages (from httpx<1,>=0.23.0->openai) (2025.4.26)\n",
      "Requirement already satisfied: httpcore==1.* in c:\\programdata\\anaconda3\\lib\\site-packages (from httpx<1,>=0.23.0->openai) (1.0.2)\n",
      "Requirement already satisfied: h11<0.15,>=0.13 in c:\\programdata\\anaconda3\\lib\\site-packages (from httpcore==1.*->httpx<1,>=0.23.0->openai) (0.14.0)\n",
      "Requirement already satisfied: annotated-types>=0.6.0 in c:\\programdata\\anaconda3\\lib\\site-packages (from pydantic<3,>=1.9.0->openai) (0.6.0)\n",
      "Requirement already satisfied: pydantic-core==2.27.1 in c:\\programdata\\anaconda3\\lib\\site-packages (from pydantic<3,>=1.9.0->openai) (2.27.1)\n",
      "Requirement already satisfied: regex>=2022.1.18 in c:\\programdata\\anaconda3\\lib\\site-packages (from tiktoken) (2023.10.3)\n",
      "Requirement already satisfied: requests>=2.26.0 in c:\\programdata\\anaconda3\\lib\\site-packages (from tiktoken) (2.32.2)\n",
      "Requirement already satisfied: cffi>=1.14 in c:\\programdata\\anaconda3\\lib\\site-packages (from cryptography>=36.0.0->pdfminer.six==20250327->pdfplumber) (1.16.0)\n",
      "Requirement already satisfied: pycparser in c:\\programdata\\anaconda3\\lib\\site-packages (from cffi>=1.14->cryptography>=36.0.0->pdfminer.six==20250327->pdfplumber) (2.21)\n",
      "Requirement already satisfied: urllib3<3,>=1.21.1 in c:\\programdata\\anaconda3\\lib\\site-packages (from requests>=2.26.0->tiktoken) (2.2.2)\n",
      "Requirement already satisfied: colorama in c:\\users\\20240667\\appdata\\roaming\\python\\python312\\site-packages (from tqdm>4->openai) (0.4.6)\n",
      "Requirement already satisfied: python-dotenv in c:\\programdata\\anaconda3\\lib\\site-packages (0.21.0)\n",
      "Requirement already satisfied: openai in c:\\programdata\\anaconda3\\lib\\site-packages (1.91.0)\n",
      "Requirement already satisfied: anyio<5,>=3.5.0 in c:\\programdata\\anaconda3\\lib\\site-packages (from openai) (4.2.0)\n",
      "Requirement already satisfied: distro<2,>=1.7.0 in c:\\programdata\\anaconda3\\lib\\site-packages (from openai) (1.9.0)\n",
      "Requirement already satisfied: httpx<1,>=0.23.0 in c:\\programdata\\anaconda3\\lib\\site-packages (from openai) (0.27.0)\n",
      "Requirement already satisfied: jiter<1,>=0.4.0 in c:\\programdata\\anaconda3\\lib\\site-packages (from openai) (0.10.0)\n",
      "Requirement already satisfied: pydantic<3,>=1.9.0 in c:\\programdata\\anaconda3\\lib\\site-packages (from openai) (2.10.3)\n",
      "Requirement already satisfied: sniffio in c:\\programdata\\anaconda3\\lib\\site-packages (from openai) (1.3.0)\n",
      "Requirement already satisfied: tqdm>4 in c:\\programdata\\anaconda3\\lib\\site-packages (from openai) (4.66.4)\n",
      "Requirement already satisfied: typing-extensions<5,>=4.11 in c:\\programdata\\anaconda3\\lib\\site-packages (from openai) (4.12.2)\n",
      "Requirement already satisfied: idna>=2.8 in c:\\programdata\\anaconda3\\lib\\site-packages (from anyio<5,>=3.5.0->openai) (3.7)\n",
      "Requirement already satisfied: certifi in c:\\programdata\\anaconda3\\lib\\site-packages (from httpx<1,>=0.23.0->openai) (2025.4.26)\n",
      "Requirement already satisfied: httpcore==1.* in c:\\programdata\\anaconda3\\lib\\site-packages (from httpx<1,>=0.23.0->openai) (1.0.2)\n",
      "Requirement already satisfied: h11<0.15,>=0.13 in c:\\programdata\\anaconda3\\lib\\site-packages (from httpcore==1.*->httpx<1,>=0.23.0->openai) (0.14.0)\n",
      "Requirement already satisfied: annotated-types>=0.6.0 in c:\\programdata\\anaconda3\\lib\\site-packages (from pydantic<3,>=1.9.0->openai) (0.6.0)\n",
      "Requirement already satisfied: pydantic-core==2.27.1 in c:\\programdata\\anaconda3\\lib\\site-packages (from pydantic<3,>=1.9.0->openai) (2.27.1)\n",
      "Requirement already satisfied: colorama in c:\\users\\20240667\\appdata\\roaming\\python\\python312\\site-packages (from tqdm>4->openai) (0.4.6)\n",
      "Requirement already satisfied: openai in c:\\programdata\\anaconda3\\lib\\site-packages (1.91.0)\n",
      "Requirement already satisfied: numpy in c:\\programdata\\anaconda3\\lib\\site-packages (2.2.6)\n",
      "Requirement already satisfied: anyio<5,>=3.5.0 in c:\\programdata\\anaconda3\\lib\\site-packages (from openai) (4.2.0)\n",
      "Requirement already satisfied: distro<2,>=1.7.0 in c:\\programdata\\anaconda3\\lib\\site-packages (from openai) (1.9.0)\n",
      "Requirement already satisfied: httpx<1,>=0.23.0 in c:\\programdata\\anaconda3\\lib\\site-packages (from openai) (0.27.0)\n",
      "Requirement already satisfied: jiter<1,>=0.4.0 in c:\\programdata\\anaconda3\\lib\\site-packages (from openai) (0.10.0)\n",
      "Requirement already satisfied: pydantic<3,>=1.9.0 in c:\\programdata\\anaconda3\\lib\\site-packages (from openai) (2.10.3)\n",
      "Requirement already satisfied: sniffio in c:\\programdata\\anaconda3\\lib\\site-packages (from openai) (1.3.0)\n",
      "Requirement already satisfied: tqdm>4 in c:\\programdata\\anaconda3\\lib\\site-packages (from openai) (4.66.4)\n",
      "Requirement already satisfied: typing-extensions<5,>=4.11 in c:\\programdata\\anaconda3\\lib\\site-packages (from openai) (4.12.2)\n",
      "Requirement already satisfied: idna>=2.8 in c:\\programdata\\anaconda3\\lib\\site-packages (from anyio<5,>=3.5.0->openai) (3.7)\n",
      "Requirement already satisfied: certifi in c:\\programdata\\anaconda3\\lib\\site-packages (from httpx<1,>=0.23.0->openai) (2025.4.26)\n",
      "Requirement already satisfied: httpcore==1.* in c:\\programdata\\anaconda3\\lib\\site-packages (from httpx<1,>=0.23.0->openai) (1.0.2)\n",
      "Requirement already satisfied: h11<0.15,>=0.13 in c:\\programdata\\anaconda3\\lib\\site-packages (from httpcore==1.*->httpx<1,>=0.23.0->openai) (0.14.0)\n",
      "Requirement already satisfied: annotated-types>=0.6.0 in c:\\programdata\\anaconda3\\lib\\site-packages (from pydantic<3,>=1.9.0->openai) (0.6.0)\n",
      "Requirement already satisfied: pydantic-core==2.27.1 in c:\\programdata\\anaconda3\\lib\\site-packages (from pydantic<3,>=1.9.0->openai) (2.27.1)\n",
      "Requirement already satisfied: colorama in c:\\users\\20240667\\appdata\\roaming\\python\\python312\\site-packages (from tqdm>4->openai) (0.4.6)\n"
     ]
    }
   ],
   "source": [
    "\n",
    "!pip install pdfplumber pymupdf faiss-cpu openai tiktoken\n",
    "\n",
    "!pip install python-dotenv\n",
    "\n",
    "!pip install --upgrade openai\n",
    "\n",
    "!pip install openai numpy\n"
   ]
  },
  {
   "cell_type": "markdown",
   "metadata": {},
   "source": [
    "<a class=\"anchor\" id=\"libraries\"></a>\n",
    "\n",
    "## 1.2 Importing Libraries"
   ]
  },
  {
   "cell_type": "code",
   "execution_count": 5,
   "metadata": {},
   "outputs": [
    {
     "name": "stderr",
     "output_type": "stream",
     "text": [
      "\n",
      "A module that was compiled using NumPy 1.x cannot be run in\n",
      "NumPy 2.2.6 as it may crash. To support both 1.x and 2.x\n",
      "versions of NumPy, modules must be compiled with NumPy 2.0.\n",
      "Some module may need to rebuild instead e.g. with 'pybind11>=2.12'.\n",
      "\n",
      "If you are a user of the module, the easiest solution will be to\n",
      "downgrade to 'numpy<2' or try to upgrade the affected module.\n",
      "We expect that some modules will need time to support NumPy 2.\n",
      "\n",
      "Traceback (most recent call last):  File \"<frozen runpy>\", line 198, in _run_module_as_main\n",
      "  File \"<frozen runpy>\", line 88, in _run_code\n",
      "  File \"C:\\Users\\20240667\\AppData\\Roaming\\Python\\Python312\\site-packages\\ipykernel_launcher.py\", line 18, in <module>\n",
      "    app.launch_new_instance()\n",
      "  File \"C:\\Users\\20240667\\AppData\\Roaming\\Python\\Python312\\site-packages\\traitlets\\config\\application.py\", line 1075, in launch_instance\n",
      "    app.start()\n",
      "  File \"C:\\Users\\20240667\\AppData\\Roaming\\Python\\Python312\\site-packages\\ipykernel\\kernelapp.py\", line 739, in start\n",
      "    self.io_loop.start()\n",
      "  File \"C:\\Users\\20240667\\AppData\\Roaming\\Python\\Python312\\site-packages\\tornado\\platform\\asyncio.py\", line 205, in start\n",
      "    self.asyncio_loop.run_forever()\n",
      "  File \"c:\\ProgramData\\anaconda3\\Lib\\asyncio\\base_events.py\", line 641, in run_forever\n",
      "    self._run_once()\n",
      "  File \"c:\\ProgramData\\anaconda3\\Lib\\asyncio\\base_events.py\", line 1987, in _run_once\n",
      "    handle._run()\n",
      "  File \"c:\\ProgramData\\anaconda3\\Lib\\asyncio\\events.py\", line 88, in _run\n",
      "    self._context.run(self._callback, *self._args)\n",
      "  File \"C:\\Users\\20240667\\AppData\\Roaming\\Python\\Python312\\site-packages\\ipykernel\\kernelbase.py\", line 545, in dispatch_queue\n",
      "    await self.process_one()\n",
      "  File \"C:\\Users\\20240667\\AppData\\Roaming\\Python\\Python312\\site-packages\\ipykernel\\kernelbase.py\", line 534, in process_one\n",
      "    await dispatch(*args)\n",
      "  File \"C:\\Users\\20240667\\AppData\\Roaming\\Python\\Python312\\site-packages\\ipykernel\\kernelbase.py\", line 437, in dispatch_shell\n",
      "    await result\n",
      "  File \"C:\\Users\\20240667\\AppData\\Roaming\\Python\\Python312\\site-packages\\ipykernel\\ipkernel.py\", line 362, in execute_request\n",
      "    await super().execute_request(stream, ident, parent)\n",
      "  File \"C:\\Users\\20240667\\AppData\\Roaming\\Python\\Python312\\site-packages\\ipykernel\\kernelbase.py\", line 778, in execute_request\n",
      "    reply_content = await reply_content\n",
      "  File \"C:\\Users\\20240667\\AppData\\Roaming\\Python\\Python312\\site-packages\\ipykernel\\ipkernel.py\", line 449, in do_execute\n",
      "    res = shell.run_cell(\n",
      "  File \"C:\\Users\\20240667\\AppData\\Roaming\\Python\\Python312\\site-packages\\ipykernel\\zmqshell.py\", line 549, in run_cell\n",
      "    return super().run_cell(*args, **kwargs)\n",
      "  File \"C:\\Users\\20240667\\AppData\\Roaming\\Python\\Python312\\site-packages\\IPython\\core\\interactiveshell.py\", line 3044, in run_cell\n",
      "    result = self._run_cell(\n",
      "  File \"C:\\Users\\20240667\\AppData\\Roaming\\Python\\Python312\\site-packages\\IPython\\core\\interactiveshell.py\", line 3099, in _run_cell\n",
      "    result = runner(coro)\n",
      "  File \"C:\\Users\\20240667\\AppData\\Roaming\\Python\\Python312\\site-packages\\IPython\\core\\async_helpers.py\", line 128, in _pseudo_sync_runner\n",
      "    coro.send(None)\n",
      "  File \"C:\\Users\\20240667\\AppData\\Roaming\\Python\\Python312\\site-packages\\IPython\\core\\interactiveshell.py\", line 3303, in run_cell_async\n",
      "    has_raised = await self.run_ast_nodes(code_ast.body, cell_name,\n",
      "  File \"C:\\Users\\20240667\\AppData\\Roaming\\Python\\Python312\\site-packages\\IPython\\core\\interactiveshell.py\", line 3486, in run_ast_nodes\n",
      "    if await self.run_code(code, result, async_=asy):\n",
      "  File \"C:\\Users\\20240667\\AppData\\Roaming\\Python\\Python312\\site-packages\\IPython\\core\\interactiveshell.py\", line 3546, in run_code\n",
      "    exec(code_obj, self.user_global_ns, self.user_ns)\n",
      "  File \"C:\\Users\\20240667\\AppData\\Local\\Temp\\ipykernel_9464\\3872614346.py\", line 3, in <module>\n",
      "    import pandas as pd\n",
      "  File \"c:\\ProgramData\\anaconda3\\Lib\\site-packages\\pandas\\__init__.py\", line 49, in <module>\n",
      "    from pandas.core.api import (\n",
      "  File \"c:\\ProgramData\\anaconda3\\Lib\\site-packages\\pandas\\core\\api.py\", line 1, in <module>\n",
      "    from pandas._libs import (\n",
      "  File \"c:\\ProgramData\\anaconda3\\Lib\\site-packages\\pandas\\_libs\\__init__.py\", line 17, in <module>\n",
      "    import pandas._libs.pandas_datetime  # noqa: F401 # isort: skip # type: ignore[reportUnusedImport]\n"
     ]
    },
    {
     "ename": "ImportError",
     "evalue": "\nA module that was compiled using NumPy 1.x cannot be run in\nNumPy 2.2.6 as it may crash. To support both 1.x and 2.x\nversions of NumPy, modules must be compiled with NumPy 2.0.\nSome module may need to rebuild instead e.g. with 'pybind11>=2.12'.\n\nIf you are a user of the module, the easiest solution will be to\ndowngrade to 'numpy<2' or try to upgrade the affected module.\nWe expect that some modules will need time to support NumPy 2.\n\n",
     "output_type": "error",
     "traceback": [
      "\u001b[31m---------------------------------------------------------------------------\u001b[39m",
      "\u001b[31mImportError\u001b[39m                               Traceback (most recent call last)",
      "\u001b[36mFile \u001b[39m\u001b[32mc:\\ProgramData\\anaconda3\\Lib\\site-packages\\numpy\\core\\_multiarray_umath.py:44\u001b[39m, in \u001b[36m__getattr__\u001b[39m\u001b[34m(attr_name)\u001b[39m\n\u001b[32m     39\u001b[39m     \u001b[38;5;66;03m# Also print the message (with traceback).  This is because old versions\u001b[39;00m\n\u001b[32m     40\u001b[39m     \u001b[38;5;66;03m# of NumPy unfortunately set up the import to replace (and hide) the\u001b[39;00m\n\u001b[32m     41\u001b[39m     \u001b[38;5;66;03m# error.  The traceback shouldn't be needed, but e.g. pytest plugins\u001b[39;00m\n\u001b[32m     42\u001b[39m     \u001b[38;5;66;03m# seem to swallow it and we should be failing anyway...\u001b[39;00m\n\u001b[32m     43\u001b[39m     sys.stderr.write(msg + tb_msg)\n\u001b[32m---> \u001b[39m\u001b[32m44\u001b[39m     \u001b[38;5;28;01mraise\u001b[39;00m \u001b[38;5;167;01mImportError\u001b[39;00m(msg)\n\u001b[32m     46\u001b[39m ret = \u001b[38;5;28mgetattr\u001b[39m(_multiarray_umath, attr_name, \u001b[38;5;28;01mNone\u001b[39;00m)\n\u001b[32m     47\u001b[39m \u001b[38;5;28;01mif\u001b[39;00m ret \u001b[38;5;129;01mis\u001b[39;00m \u001b[38;5;28;01mNone\u001b[39;00m:\n",
      "\u001b[31mImportError\u001b[39m: \nA module that was compiled using NumPy 1.x cannot be run in\nNumPy 2.2.6 as it may crash. To support both 1.x and 2.x\nversions of NumPy, modules must be compiled with NumPy 2.0.\nSome module may need to rebuild instead e.g. with 'pybind11>=2.12'.\n\nIf you are a user of the module, the easiest solution will be to\ndowngrade to 'numpy<2' or try to upgrade the affected module.\nWe expect that some modules will need time to support NumPy 2.\n\n"
     ]
    },
    {
     "ename": "ImportError",
     "evalue": "numpy.core.multiarray failed to import",
     "output_type": "error",
     "traceback": [
      "\u001b[31m---------------------------------------------------------------------------\u001b[39m",
      "\u001b[31mImportError\u001b[39m                               Traceback (most recent call last)",
      "\u001b[36mCell\u001b[39m\u001b[36m \u001b[39m\u001b[32mIn[5]\u001b[39m\u001b[32m, line 3\u001b[39m\n\u001b[32m      1\u001b[39m \u001b[38;5;66;03m# -------------------------------\u001b[39;00m\n\u001b[32m      2\u001b[39m \u001b[38;5;66;03m# Core Libraries\u001b[39;00m\n\u001b[32m----> \u001b[39m\u001b[32m3\u001b[39m \u001b[38;5;28;01mimport\u001b[39;00m\u001b[38;5;250m \u001b[39m\u001b[34;01mpandas\u001b[39;00m\u001b[38;5;250m \u001b[39m\u001b[38;5;28;01mas\u001b[39;00m\u001b[38;5;250m \u001b[39m\u001b[34;01mpd\u001b[39;00m\n\u001b[32m      4\u001b[39m \u001b[38;5;28;01mimport\u001b[39;00m\u001b[38;5;250m \u001b[39m\u001b[34;01mnumpy\u001b[39;00m\u001b[38;5;250m \u001b[39m\u001b[38;5;28;01mas\u001b[39;00m\u001b[38;5;250m \u001b[39m\u001b[34;01mnp\u001b[39;00m\n\u001b[32m      5\u001b[39m \u001b[38;5;28;01mimport\u001b[39;00m\u001b[38;5;250m \u001b[39m\u001b[34;01mos\u001b[39;00m\n",
      "\u001b[36mFile \u001b[39m\u001b[32mc:\\ProgramData\\anaconda3\\Lib\\site-packages\\pandas\\__init__.py:49\u001b[39m\n\u001b[32m     46\u001b[39m \u001b[38;5;66;03m# let init-time option registration happen\u001b[39;00m\n\u001b[32m     47\u001b[39m \u001b[38;5;28;01mimport\u001b[39;00m\u001b[38;5;250m \u001b[39m\u001b[34;01mpandas\u001b[39;00m\u001b[34;01m.\u001b[39;00m\u001b[34;01mcore\u001b[39;00m\u001b[34;01m.\u001b[39;00m\u001b[34;01mconfig_init\u001b[39;00m  \u001b[38;5;66;03m# pyright: ignore[reportUnusedImport] # noqa: F401\u001b[39;00m\n\u001b[32m---> \u001b[39m\u001b[32m49\u001b[39m \u001b[38;5;28;01mfrom\u001b[39;00m\u001b[38;5;250m \u001b[39m\u001b[34;01mpandas\u001b[39;00m\u001b[34;01m.\u001b[39;00m\u001b[34;01mcore\u001b[39;00m\u001b[34;01m.\u001b[39;00m\u001b[34;01mapi\u001b[39;00m\u001b[38;5;250m \u001b[39m\u001b[38;5;28;01mimport\u001b[39;00m (\n\u001b[32m     50\u001b[39m     \u001b[38;5;66;03m# dtype\u001b[39;00m\n\u001b[32m     51\u001b[39m     ArrowDtype,\n\u001b[32m     52\u001b[39m     Int8Dtype,\n\u001b[32m     53\u001b[39m     Int16Dtype,\n\u001b[32m     54\u001b[39m     Int32Dtype,\n\u001b[32m     55\u001b[39m     Int64Dtype,\n\u001b[32m     56\u001b[39m     UInt8Dtype,\n\u001b[32m     57\u001b[39m     UInt16Dtype,\n\u001b[32m     58\u001b[39m     UInt32Dtype,\n\u001b[32m     59\u001b[39m     UInt64Dtype,\n\u001b[32m     60\u001b[39m     Float32Dtype,\n\u001b[32m     61\u001b[39m     Float64Dtype,\n\u001b[32m     62\u001b[39m     CategoricalDtype,\n\u001b[32m     63\u001b[39m     PeriodDtype,\n\u001b[32m     64\u001b[39m     IntervalDtype,\n\u001b[32m     65\u001b[39m     DatetimeTZDtype,\n\u001b[32m     66\u001b[39m     StringDtype,\n\u001b[32m     67\u001b[39m     BooleanDtype,\n\u001b[32m     68\u001b[39m     \u001b[38;5;66;03m# missing\u001b[39;00m\n\u001b[32m     69\u001b[39m     NA,\n\u001b[32m     70\u001b[39m     isna,\n\u001b[32m     71\u001b[39m     isnull,\n\u001b[32m     72\u001b[39m     notna,\n\u001b[32m     73\u001b[39m     notnull,\n\u001b[32m     74\u001b[39m     \u001b[38;5;66;03m# indexes\u001b[39;00m\n\u001b[32m     75\u001b[39m     Index,\n\u001b[32m     76\u001b[39m     CategoricalIndex,\n\u001b[32m     77\u001b[39m     RangeIndex,\n\u001b[32m     78\u001b[39m     MultiIndex,\n\u001b[32m     79\u001b[39m     IntervalIndex,\n\u001b[32m     80\u001b[39m     TimedeltaIndex,\n\u001b[32m     81\u001b[39m     DatetimeIndex,\n\u001b[32m     82\u001b[39m     PeriodIndex,\n\u001b[32m     83\u001b[39m     IndexSlice,\n\u001b[32m     84\u001b[39m     \u001b[38;5;66;03m# tseries\u001b[39;00m\n\u001b[32m     85\u001b[39m     NaT,\n\u001b[32m     86\u001b[39m     Period,\n\u001b[32m     87\u001b[39m     period_range,\n\u001b[32m     88\u001b[39m     Timedelta,\n\u001b[32m     89\u001b[39m     timedelta_range,\n\u001b[32m     90\u001b[39m     Timestamp,\n\u001b[32m     91\u001b[39m     date_range,\n\u001b[32m     92\u001b[39m     bdate_range,\n\u001b[32m     93\u001b[39m     Interval,\n\u001b[32m     94\u001b[39m     interval_range,\n\u001b[32m     95\u001b[39m     DateOffset,\n\u001b[32m     96\u001b[39m     \u001b[38;5;66;03m# conversion\u001b[39;00m\n\u001b[32m     97\u001b[39m     to_numeric,\n\u001b[32m     98\u001b[39m     to_datetime,\n\u001b[32m     99\u001b[39m     to_timedelta,\n\u001b[32m    100\u001b[39m     \u001b[38;5;66;03m# misc\u001b[39;00m\n\u001b[32m    101\u001b[39m     Flags,\n\u001b[32m    102\u001b[39m     Grouper,\n\u001b[32m    103\u001b[39m     factorize,\n\u001b[32m    104\u001b[39m     unique,\n\u001b[32m    105\u001b[39m     value_counts,\n\u001b[32m    106\u001b[39m     NamedAgg,\n\u001b[32m    107\u001b[39m     array,\n\u001b[32m    108\u001b[39m     Categorical,\n\u001b[32m    109\u001b[39m     set_eng_float_format,\n\u001b[32m    110\u001b[39m     Series,\n\u001b[32m    111\u001b[39m     DataFrame,\n\u001b[32m    112\u001b[39m )\n\u001b[32m    114\u001b[39m \u001b[38;5;28;01mfrom\u001b[39;00m\u001b[38;5;250m \u001b[39m\u001b[34;01mpandas\u001b[39;00m\u001b[34;01m.\u001b[39;00m\u001b[34;01mcore\u001b[39;00m\u001b[34;01m.\u001b[39;00m\u001b[34;01mdtypes\u001b[39;00m\u001b[34;01m.\u001b[39;00m\u001b[34;01mdtypes\u001b[39;00m\u001b[38;5;250m \u001b[39m\u001b[38;5;28;01mimport\u001b[39;00m SparseDtype\n\u001b[32m    116\u001b[39m \u001b[38;5;28;01mfrom\u001b[39;00m\u001b[38;5;250m \u001b[39m\u001b[34;01mpandas\u001b[39;00m\u001b[34;01m.\u001b[39;00m\u001b[34;01mtseries\u001b[39;00m\u001b[34;01m.\u001b[39;00m\u001b[34;01mapi\u001b[39;00m\u001b[38;5;250m \u001b[39m\u001b[38;5;28;01mimport\u001b[39;00m infer_freq\n",
      "\u001b[36mFile \u001b[39m\u001b[32mc:\\ProgramData\\anaconda3\\Lib\\site-packages\\pandas\\core\\api.py:1\u001b[39m\n\u001b[32m----> \u001b[39m\u001b[32m1\u001b[39m \u001b[38;5;28;01mfrom\u001b[39;00m\u001b[38;5;250m \u001b[39m\u001b[34;01mpandas\u001b[39;00m\u001b[34;01m.\u001b[39;00m\u001b[34;01m_libs\u001b[39;00m\u001b[38;5;250m \u001b[39m\u001b[38;5;28;01mimport\u001b[39;00m (\n\u001b[32m      2\u001b[39m     NaT,\n\u001b[32m      3\u001b[39m     Period,\n\u001b[32m      4\u001b[39m     Timedelta,\n\u001b[32m      5\u001b[39m     Timestamp,\n\u001b[32m      6\u001b[39m )\n\u001b[32m      7\u001b[39m \u001b[38;5;28;01mfrom\u001b[39;00m\u001b[38;5;250m \u001b[39m\u001b[34;01mpandas\u001b[39;00m\u001b[34;01m.\u001b[39;00m\u001b[34;01m_libs\u001b[39;00m\u001b[34;01m.\u001b[39;00m\u001b[34;01mmissing\u001b[39;00m\u001b[38;5;250m \u001b[39m\u001b[38;5;28;01mimport\u001b[39;00m NA\n\u001b[32m      9\u001b[39m \u001b[38;5;28;01mfrom\u001b[39;00m\u001b[38;5;250m \u001b[39m\u001b[34;01mpandas\u001b[39;00m\u001b[34;01m.\u001b[39;00m\u001b[34;01mcore\u001b[39;00m\u001b[34;01m.\u001b[39;00m\u001b[34;01mdtypes\u001b[39;00m\u001b[34;01m.\u001b[39;00m\u001b[34;01mdtypes\u001b[39;00m\u001b[38;5;250m \u001b[39m\u001b[38;5;28;01mimport\u001b[39;00m (\n\u001b[32m     10\u001b[39m     ArrowDtype,\n\u001b[32m     11\u001b[39m     CategoricalDtype,\n\u001b[32m   (...)\u001b[39m\u001b[32m     14\u001b[39m     PeriodDtype,\n\u001b[32m     15\u001b[39m )\n",
      "\u001b[36mFile \u001b[39m\u001b[32mc:\\ProgramData\\anaconda3\\Lib\\site-packages\\pandas\\_libs\\__init__.py:17\u001b[39m\n\u001b[32m     13\u001b[39m \u001b[38;5;66;03m# Below imports needs to happen first to ensure pandas top level\u001b[39;00m\n\u001b[32m     14\u001b[39m \u001b[38;5;66;03m# module gets monkeypatched with the pandas_datetime_CAPI\u001b[39;00m\n\u001b[32m     15\u001b[39m \u001b[38;5;66;03m# see pandas_datetime_exec in pd_datetime.c\u001b[39;00m\n\u001b[32m     16\u001b[39m \u001b[38;5;28;01mimport\u001b[39;00m\u001b[38;5;250m \u001b[39m\u001b[34;01mpandas\u001b[39;00m\u001b[34;01m.\u001b[39;00m\u001b[34;01m_libs\u001b[39;00m\u001b[34;01m.\u001b[39;00m\u001b[34;01mpandas_parser\u001b[39;00m  \u001b[38;5;66;03m# isort: skip # type: ignore[reportUnusedImport]\u001b[39;00m\n\u001b[32m---> \u001b[39m\u001b[32m17\u001b[39m \u001b[38;5;28;01mimport\u001b[39;00m\u001b[38;5;250m \u001b[39m\u001b[34;01mpandas\u001b[39;00m\u001b[34;01m.\u001b[39;00m\u001b[34;01m_libs\u001b[39;00m\u001b[34;01m.\u001b[39;00m\u001b[34;01mpandas_datetime\u001b[39;00m  \u001b[38;5;66;03m# noqa: F401 # isort: skip # type: ignore[reportUnusedImport]\u001b[39;00m\n\u001b[32m     18\u001b[39m \u001b[38;5;28;01mfrom\u001b[39;00m\u001b[38;5;250m \u001b[39m\u001b[34;01mpandas\u001b[39;00m\u001b[34;01m.\u001b[39;00m\u001b[34;01m_libs\u001b[39;00m\u001b[34;01m.\u001b[39;00m\u001b[34;01minterval\u001b[39;00m\u001b[38;5;250m \u001b[39m\u001b[38;5;28;01mimport\u001b[39;00m Interval\n\u001b[32m     19\u001b[39m \u001b[38;5;28;01mfrom\u001b[39;00m\u001b[38;5;250m \u001b[39m\u001b[34;01mpandas\u001b[39;00m\u001b[34;01m.\u001b[39;00m\u001b[34;01m_libs\u001b[39;00m\u001b[34;01m.\u001b[39;00m\u001b[34;01mtslibs\u001b[39;00m\u001b[38;5;250m \u001b[39m\u001b[38;5;28;01mimport\u001b[39;00m (\n\u001b[32m     20\u001b[39m     NaT,\n\u001b[32m     21\u001b[39m     NaTType,\n\u001b[32m   (...)\u001b[39m\u001b[32m     26\u001b[39m     iNaT,\n\u001b[32m     27\u001b[39m )\n",
      "\u001b[31mImportError\u001b[39m: numpy.core.multiarray failed to import"
     ]
    }
   ],
   "source": [
    "# -------------------------------\n",
    "# Core Libraries\n",
    "import pandas as pd\n",
    "import numpy as np\n",
    "import os\n",
    "\n",
    "\n",
    "#----------------------------------\n",
    "# Text Preprocessing/ Extraction\n",
    "import pdfplumber\n",
    "\n",
    "#---------------------------------\n",
    "#Setup Environment\n",
    "from openai import AzureOpenAI\n",
    "from dotenv import load_dotenv\n",
    "import os\n",
    "#------------------------------------\n",
    "#RAG\n",
    "import faiss\n",
    "import openai\n",
    "import tiktoken\n",
    "\n",
    "\n",
    "#-------------------\n",
    "#COISINE\n",
    "from openai import OpenAI\n",
    "from sklearn.metrics.pairwise import cosine_similarity\n"
   ]
  },
  {
   "cell_type": "markdown",
   "metadata": {},
   "source": [
    "<a class=\"anchor\" id=\"client\"></a>\n",
    "\n",
    "\n",
    "## 1.3. Initializing Azure OpenAI Client"
   ]
  },
  {
   "cell_type": "markdown",
   "metadata": {},
   "source": [
    "To access OpenAi's API key, we made use of NOVA IMS' resources, following these steps:\n",
    "\n",
    "1) Acquiring API key at faculty's provided website\n",
    "2) Defining API key on a text file, assigning it to variable `(\"AZURE_OPENAI_KEY\")`\n",
    "3) Saving file as .env file on the same directory as Python script\n",
    "\n",
    "\n",
    "Then, we loaded the .env file, and initialized the client as defined below:"
   ]
  },
  {
   "cell_type": "code",
   "execution_count": null,
   "metadata": {},
   "outputs": [
    {
     "data": {
      "text/plain": [
       "True"
      ]
     },
     "execution_count": 3,
     "metadata": {},
     "output_type": "execute_result"
    }
   ],
   "source": [
    "# Load env variables\n",
    "load_dotenv()"
   ]
  },
  {
   "cell_type": "code",
   "execution_count": null,
   "metadata": {},
   "outputs": [],
   "source": [
    "# -----------Initializing the AzureOpenAI client\n",
    "client = AzureOpenAI(\n",
    "    azure_endpoint=\"https://ai-bcds.openai.azure.com/\",  # Provided by NOVA IMS\n",
    "    api_key=os.getenv(\"AZURE_OPENAI_KEY\"),               # Securely loaded from .env\n",
    "    api_version=\"2025-01-01-preview\"                     # Version provided or current\n",
    ")"
   ]
  },
  {
   "cell_type": "markdown",
   "metadata": {},
   "source": [
    "<a class=\"anchor\" id=\"preprocess\"></a>\n",
    "\n",
    "# 2. Text Preprocessing"
   ]
  },
  {
   "cell_type": "markdown",
   "metadata": {},
   "source": [
    "<a class=\"anchor\" id=\"extraction\"></a>\n",
    "\n",
    "## 2.1. PDF Text and Image Extraction"
   ]
  },
  {
   "cell_type": "markdown",
   "metadata": {},
   "source": [
    "Uncomment and run if you are running for the first time, or if you update the source folder's content.\n",
    "\n",
    "After running this piece of code for the first time, you can Comment it, since the result of this extraction is already stored in \"outputs\" folder created in directory.\n",
    "\n",
    "Note: To ensure this cell runs correctly, the folder on which you store the subfolders with docs to upload should be named \"pdf_chatbot\". Alternatively, you can edit the function 'def process_all_pdfs()' and update 'root_input_folder' parameter with the correct folder name in your directory."
   ]
  },
  {
   "cell_type": "code",
   "execution_count": null,
   "metadata": {},
   "outputs": [
    {
     "name": "stderr",
     "output_type": "stream",
     "text": [
      "CropBox missing from /Page, defaulting to MediaBox\n",
      "CropBox missing from /Page, defaulting to MediaBox\n",
      "CropBox missing from /Page, defaulting to MediaBox\n",
      "CropBox missing from /Page, defaulting to MediaBox\n",
      "CropBox missing from /Page, defaulting to MediaBox\n",
      "CropBox missing from /Page, defaulting to MediaBox\n",
      "CropBox missing from /Page, defaulting to MediaBox\n",
      "CropBox missing from /Page, defaulting to MediaBox\n",
      "CropBox missing from /Page, defaulting to MediaBox\n",
      "CropBox missing from /Page, defaulting to MediaBox\n",
      "CropBox missing from /Page, defaulting to MediaBox\n",
      "CropBox missing from /Page, defaulting to MediaBox\n",
      "CropBox missing from /Page, defaulting to MediaBox\n",
      "CropBox missing from /Page, defaulting to MediaBox\n",
      "CropBox missing from /Page, defaulting to MediaBox\n",
      "CropBox missing from /Page, defaulting to MediaBox\n",
      "CropBox missing from /Page, defaulting to MediaBox\n",
      "CropBox missing from /Page, defaulting to MediaBox\n",
      "CropBox missing from /Page, defaulting to MediaBox\n",
      "CropBox missing from /Page, defaulting to MediaBox\n",
      "CropBox missing from /Page, defaulting to MediaBox\n",
      "CropBox missing from /Page, defaulting to MediaBox\n",
      "CropBox missing from /Page, defaulting to MediaBox\n",
      "CropBox missing from /Page, defaulting to MediaBox\n"
     ]
    },
    {
     "name": "stdout",
     "output_type": "stream",
     "text": [
      "Found 20 PDFs to process.\n",
      "\n"
     ]
    },
    {
     "name": "stderr",
     "output_type": "stream",
     "text": [
      "CropBox missing from /Page, defaulting to MediaBox\n",
      "CropBox missing from /Page, defaulting to MediaBox\n",
      "CropBox missing from /Page, defaulting to MediaBox\n",
      "CropBox missing from /Page, defaulting to MediaBox\n",
      "CropBox missing from /Page, defaulting to MediaBox\n",
      "CropBox missing from /Page, defaulting to MediaBox\n",
      "CropBox missing from /Page, defaulting to MediaBox\n",
      "CropBox missing from /Page, defaulting to MediaBox\n",
      "CropBox missing from /Page, defaulting to MediaBox\n",
      "CropBox missing from /Page, defaulting to MediaBox\n",
      "CropBox missing from /Page, defaulting to MediaBox\n",
      "CropBox missing from /Page, defaulting to MediaBox\n",
      "CropBox missing from /Page, defaulting to MediaBox\n",
      "CropBox missing from /Page, defaulting to MediaBox\n",
      "CropBox missing from /Page, defaulting to MediaBox\n",
      "CropBox missing from /Page, defaulting to MediaBox\n",
      "CropBox missing from /Page, defaulting to MediaBox\n",
      "CropBox missing from /Page, defaulting to MediaBox\n",
      "CropBox missing from /Page, defaulting to MediaBox\n",
      "CropBox missing from /Page, defaulting to MediaBox\n",
      "CropBox missing from /Page, defaulting to MediaBox\n",
      "CropBox missing from /Page, defaulting to MediaBox\n",
      "CropBox missing from /Page, defaulting to MediaBox\n",
      "CropBox missing from /Page, defaulting to MediaBox\n",
      "CropBox missing from /Page, defaulting to MediaBox\n",
      "CropBox missing from /Page, defaulting to MediaBox\n",
      "CropBox missing from /Page, defaulting to MediaBox\n",
      "CropBox missing from /Page, defaulting to MediaBox\n",
      "CropBox missing from /Page, defaulting to MediaBox\n",
      "CropBox missing from /Page, defaulting to MediaBox\n",
      "CropBox missing from /Page, defaulting to MediaBox\n",
      "CropBox missing from /Page, defaulting to MediaBox\n",
      "CropBox missing from /Page, defaulting to MediaBox\n",
      "CropBox missing from /Page, defaulting to MediaBox\n",
      "CropBox missing from /Page, defaulting to MediaBox\n",
      "CropBox missing from /Page, defaulting to MediaBox\n",
      "CropBox missing from /Page, defaulting to MediaBox\n",
      "CropBox missing from /Page, defaulting to MediaBox\n",
      "CropBox missing from /Page, defaulting to MediaBox\n",
      "CropBox missing from /Page, defaulting to MediaBox\n",
      "CropBox missing from /Page, defaulting to MediaBox\n",
      "CropBox missing from /Page, defaulting to MediaBox\n",
      "CropBox missing from /Page, defaulting to MediaBox\n",
      "CropBox missing from /Page, defaulting to MediaBox\n",
      "CropBox missing from /Page, defaulting to MediaBox\n",
      "CropBox missing from /Page, defaulting to MediaBox\n",
      "CropBox missing from /Page, defaulting to MediaBox\n",
      "CropBox missing from /Page, defaulting to MediaBox\n",
      "CropBox missing from /Page, defaulting to MediaBox\n",
      "CropBox missing from /Page, defaulting to MediaBox\n",
      "CropBox missing from /Page, defaulting to MediaBox\n",
      "CropBox missing from /Page, defaulting to MediaBox\n",
      "CropBox missing from /Page, defaulting to MediaBox\n",
      "CropBox missing from /Page, defaulting to MediaBox\n",
      "CropBox missing from /Page, defaulting to MediaBox\n"
     ]
    },
    {
     "name": "stdout",
     "output_type": "stream",
     "text": [
      "Processed: pdf_chatbot\\Fidelidade_Business Case_NOVA IMS.pdf\n",
      "  Text saved to: outputs\\extracted_text.txt\n",
      "  Images saved to: outputs\\images\n",
      "\n"
     ]
    },
    {
     "name": "stderr",
     "output_type": "stream",
     "text": [
      "CropBox missing from /Page, defaulting to MediaBox\n",
      "CropBox missing from /Page, defaulting to MediaBox\n",
      "CropBox missing from /Page, defaulting to MediaBox\n",
      "CropBox missing from /Page, defaulting to MediaBox\n",
      "CropBox missing from /Page, defaulting to MediaBox\n",
      "CropBox missing from /Page, defaulting to MediaBox\n",
      "CropBox missing from /Page, defaulting to MediaBox\n"
     ]
    },
    {
     "name": "stdout",
     "output_type": "stream",
     "text": [
      "Processed: pdf_chatbot\\PPR Evoluir_Documents\\Additional Context.pdf\n",
      "  Text saved to: outputs\\PPR Evoluir_Documents\\extracted_text.txt\n",
      "  Images saved to: outputs\\PPR Evoluir_Documents\\images\n",
      "\n"
     ]
    },
    {
     "name": "stderr",
     "output_type": "stream",
     "text": [
      "CropBox missing from /Page, defaulting to MediaBox\n",
      "CropBox missing from /Page, defaulting to MediaBox\n",
      "CropBox missing from /Page, defaulting to MediaBox\n",
      "CropBox missing from /Page, defaulting to MediaBox\n",
      "CropBox missing from /Page, defaulting to MediaBox\n",
      "CropBox missing from /Page, defaulting to MediaBox\n",
      "CropBox missing from /Page, defaulting to MediaBox\n",
      "CropBox missing from /Page, defaulting to MediaBox\n",
      "CropBox missing from /Page, defaulting to MediaBox\n",
      "CropBox missing from /Page, defaulting to MediaBox\n",
      "CropBox missing from /Page, defaulting to MediaBox\n",
      "CropBox missing from /Page, defaulting to MediaBox\n",
      "CropBox missing from /Page, defaulting to MediaBox\n",
      "CropBox missing from /Page, defaulting to MediaBox\n",
      "CropBox missing from /Page, defaulting to MediaBox\n",
      "CropBox missing from /Page, defaulting to MediaBox\n",
      "CropBox missing from /Page, defaulting to MediaBox\n",
      "CropBox missing from /Page, defaulting to MediaBox\n"
     ]
    },
    {
     "name": "stdout",
     "output_type": "stream",
     "text": [
      "Processed: pdf_chatbot\\PPR Evoluir_Documents\\PPR Evoluir - Competitors\\Observatório de Mercado (PPR - Rede) - Dezembro 2024.pdf\n",
      "  Text saved to: outputs\\PPR Evoluir_Documents\\PPR Evoluir - Competitors\\extracted_text.txt\n",
      "  Images saved to: outputs\\PPR Evoluir_Documents\\PPR Evoluir - Competitors\\images\n",
      "\n"
     ]
    },
    {
     "name": "stderr",
     "output_type": "stream",
     "text": [
      "CropBox missing from /Page, defaulting to MediaBox\n",
      "CropBox missing from /Page, defaulting to MediaBox\n",
      "CropBox missing from /Page, defaulting to MediaBox\n",
      "CropBox missing from /Page, defaulting to MediaBox\n",
      "CropBox missing from /Page, defaulting to MediaBox\n",
      "CropBox missing from /Page, defaulting to MediaBox\n",
      "CropBox missing from /Page, defaulting to MediaBox\n",
      "CropBox missing from /Page, defaulting to MediaBox\n",
      "CropBox missing from /Page, defaulting to MediaBox\n",
      "CropBox missing from /Page, defaulting to MediaBox\n",
      "CropBox missing from /Page, defaulting to MediaBox\n",
      "CropBox missing from /Page, defaulting to MediaBox\n"
     ]
    },
    {
     "name": "stdout",
     "output_type": "stream",
     "text": [
      "Processed: pdf_chatbot\\PPR Evoluir_Documents\\PPR Evoluir - Internal Information\\2025_Pitch PPR Evoluir_REDE.pdf\n",
      "  Text saved to: outputs\\PPR Evoluir_Documents\\PPR Evoluir - Internal Information\\extracted_text.txt\n",
      "  Images saved to: outputs\\PPR Evoluir_Documents\\PPR Evoluir - Internal Information\\images\n",
      "\n",
      "Processed: pdf_chatbot\\PPR Evoluir_Documents\\PPR Evoluir - Internal Information\\22984_P4_Fidelidade_MySavings_PPR_Evoluir_Faqs_PX_out24.pdf\n",
      "  Text saved to: outputs\\PPR Evoluir_Documents\\PPR Evoluir - Internal Information\\extracted_text.txt\n",
      "  Images saved to: outputs\\PPR Evoluir_Documents\\PPR Evoluir - Internal Information\\images\n",
      "\n",
      "Saved as JPG instead: outputs\\PPR Evoluir_Documents\\PPR Evoluir - Internal Information\\images/page1_img1.jpg\n"
     ]
    },
    {
     "name": "stderr",
     "output_type": "stream",
     "text": [
      "CropBox missing from /Page, defaulting to MediaBox\n",
      "CropBox missing from /Page, defaulting to MediaBox\n",
      "CropBox missing from /Page, defaulting to MediaBox\n",
      "CropBox missing from /Page, defaulting to MediaBox\n",
      "CropBox missing from /Page, defaulting to MediaBox\n",
      "CropBox missing from /Page, defaulting to MediaBox\n",
      "CropBox missing from /Page, defaulting to MediaBox\n",
      "CropBox missing from /Page, defaulting to MediaBox\n",
      "CropBox missing from /Page, defaulting to MediaBox\n",
      "CropBox missing from /Page, defaulting to MediaBox\n"
     ]
    },
    {
     "name": "stdout",
     "output_type": "stream",
     "text": [
      "Saved as JPG instead: outputs\\PPR Evoluir_Documents\\PPR Evoluir - Internal Information\\images/page2_img1.jpg\n",
      "Saved as JPG instead: outputs\\PPR Evoluir_Documents\\PPR Evoluir - Internal Information\\images/page2_img2.jpg\n",
      "Processed: pdf_chatbot\\PPR Evoluir_Documents\\PPR Evoluir - Internal Information\\PPR Evoluir - Argumentário_jan2025.pdf\n",
      "  Text saved to: outputs\\PPR Evoluir_Documents\\PPR Evoluir - Internal Information\\extracted_text.txt\n",
      "  Images saved to: outputs\\PPR Evoluir_Documents\\PPR Evoluir - Internal Information\\images\n",
      "\n"
     ]
    },
    {
     "name": "stderr",
     "output_type": "stream",
     "text": [
      "CropBox missing from /Page, defaulting to MediaBox\n",
      "CropBox missing from /Page, defaulting to MediaBox\n",
      "CropBox missing from /Page, defaulting to MediaBox\n",
      "CropBox missing from /Page, defaulting to MediaBox\n",
      "CropBox missing from /Page, defaulting to MediaBox\n",
      "CropBox missing from /Page, defaulting to MediaBox\n",
      "CropBox missing from /Page, defaulting to MediaBox\n",
      "CropBox missing from /Page, defaulting to MediaBox\n",
      "CropBox missing from /Page, defaulting to MediaBox\n",
      "CropBox missing from /Page, defaulting to MediaBox\n"
     ]
    },
    {
     "name": "stdout",
     "output_type": "stream",
     "text": [
      "Processed: pdf_chatbot\\PPR Evoluir_Documents\\PPR Evoluir - Internal Information\\PPR Evoluir - Ficha de Produto_dez2024.pdf\n",
      "  Text saved to: outputs\\PPR Evoluir_Documents\\PPR Evoluir - Internal Information\\extracted_text.txt\n",
      "  Images saved to: outputs\\PPR Evoluir_Documents\\PPR Evoluir - Internal Information\\images\n",
      "\n",
      "Processed: pdf_chatbot\\PPR Evoluir_Documents\\PPR Evoluir - Internal Information\\PPR Evoluir - Manual Operativo.pdf\n",
      "  Text saved to: outputs\\PPR Evoluir_Documents\\PPR Evoluir - Internal Information\\extracted_text.txt\n",
      "  Images saved to: outputs\\PPR Evoluir_Documents\\PPR Evoluir - Internal Information\\images\n",
      "\n",
      "Saved as JPG instead: outputs\\PPR Evoluir_Documents\\PPR Evoluir - Public Information\\images/page1_img1.jpg\n",
      "Saved as JPG instead: outputs\\PPR Evoluir_Documents\\PPR Evoluir - Public Information\\images/page1_img2.jpg\n",
      "Saved as JPG instead: outputs\\PPR Evoluir_Documents\\PPR Evoluir - Public Information\\images/page2_img1.jpg\n",
      "Saved as JPG instead: outputs\\PPR Evoluir_Documents\\PPR Evoluir - Public Information\\images/page3_img1.jpg\n",
      "Saved as JPG instead: outputs\\PPR Evoluir_Documents\\PPR Evoluir - Public Information\\images/page4_img1.jpg\n",
      "Saved as JPG instead: outputs\\PPR Evoluir_Documents\\PPR Evoluir - Public Information\\images/page5_img1.jpg\n",
      "Saved as JPG instead: outputs\\PPR Evoluir_Documents\\PPR Evoluir - Public Information\\images/page6_img1.jpg\n",
      "Saved as JPG instead: outputs\\PPR Evoluir_Documents\\PPR Evoluir - Public Information\\images/page7_img1.jpg\n",
      "Saved as JPG instead: outputs\\PPR Evoluir_Documents\\PPR Evoluir - Public Information\\images/page8_img1.jpg\n",
      "Saved as JPG instead: outputs\\PPR Evoluir_Documents\\PPR Evoluir - Public Information\\images/page9_img1.jpg\n",
      "Saved as JPG instead: outputs\\PPR Evoluir_Documents\\PPR Evoluir - Public Information\\images/page10_img1.jpg\n",
      "Saved as JPG instead: outputs\\PPR Evoluir_Documents\\PPR Evoluir - Public Information\\images/page11_img1.jpg\n",
      "Saved as JPG instead: outputs\\PPR Evoluir_Documents\\PPR Evoluir - Public Information\\images/page12_img1.jpg\n",
      "Saved as JPG instead: outputs\\PPR Evoluir_Documents\\PPR Evoluir - Public Information\\images/page13_img1.jpg\n",
      "Saved as JPG instead: outputs\\PPR Evoluir_Documents\\PPR Evoluir - Public Information\\images/page14_img1.jpg\n",
      "Saved as JPG instead: outputs\\PPR Evoluir_Documents\\PPR Evoluir - Public Information\\images/page15_img1.jpg\n",
      "Processed: pdf_chatbot\\PPR Evoluir_Documents\\PPR Evoluir - Public Information\\CG-PPR Evoluir (Rede)JAN2025.pdf\n",
      "  Text saved to: outputs\\PPR Evoluir_Documents\\PPR Evoluir - Public Information\\extracted_text.txt\n",
      "  Images saved to: outputs\\PPR Evoluir_Documents\\PPR Evoluir - Public Information\\images\n",
      "\n"
     ]
    },
    {
     "name": "stderr",
     "output_type": "stream",
     "text": [
      "CropBox missing from /Page, defaulting to MediaBox\n",
      "CropBox missing from /Page, defaulting to MediaBox\n",
      "CropBox missing from /Page, defaulting to MediaBox\n",
      "CropBox missing from /Page, defaulting to MediaBox\n",
      "CropBox missing from /Page, defaulting to MediaBox\n",
      "CropBox missing from /Page, defaulting to MediaBox\n",
      "CropBox missing from /Page, defaulting to MediaBox\n",
      "CropBox missing from /Page, defaulting to MediaBox\n",
      "CropBox missing from /Page, defaulting to MediaBox\n",
      "CropBox missing from /Page, defaulting to MediaBox\n"
     ]
    },
    {
     "name": "stdout",
     "output_type": "stream",
     "text": [
      "Saved as JPG instead: outputs\\PPR Evoluir_Documents\\PPR Evoluir - Public Information\\images/page1_img1.jpg\n",
      "Processed: pdf_chatbot\\PPR Evoluir_Documents\\PPR Evoluir - Public Information\\IPC_PPR Evoluir ParticularesJAN2025.pdf\n",
      "  Text saved to: outputs\\PPR Evoluir_Documents\\PPR Evoluir - Public Information\\extracted_text.txt\n",
      "  Images saved to: outputs\\PPR Evoluir_Documents\\PPR Evoluir - Public Information\\images\n",
      "\n"
     ]
    },
    {
     "name": "stderr",
     "output_type": "stream",
     "text": [
      "CropBox missing from /Page, defaulting to MediaBox\n",
      "CropBox missing from /Page, defaulting to MediaBox\n",
      "CropBox missing from /Page, defaulting to MediaBox\n",
      "CropBox missing from /Page, defaulting to MediaBox\n",
      "CropBox missing from /Page, defaulting to MediaBox\n",
      "CropBox missing from /Page, defaulting to MediaBox\n",
      "CropBox missing from /Page, defaulting to MediaBox\n",
      "CropBox missing from /Page, defaulting to MediaBox\n",
      "CropBox missing from /Page, defaulting to MediaBox\n",
      "CropBox missing from /Page, defaulting to MediaBox\n",
      "CropBox missing from /Page, defaulting to MediaBox\n",
      "CropBox missing from /Page, defaulting to MediaBox\n",
      "CropBox missing from /Page, defaulting to MediaBox\n",
      "CropBox missing from /Page, defaulting to MediaBox\n",
      "CropBox missing from /Page, defaulting to MediaBox\n",
      "CropBox missing from /Page, defaulting to MediaBox\n"
     ]
    },
    {
     "name": "stdout",
     "output_type": "stream",
     "text": [
      "Processed: pdf_chatbot\\Savings - Documents\\My Savings - Competitors\\Observatório de Mercado (Produtos - Rede) - Outubro 2024.pdf\n",
      "  Text saved to: outputs\\Savings - Documents\\My Savings - Competitors\\extracted_text.txt\n",
      "  Images saved to: outputs\\Savings - Documents\\My Savings - Competitors\\images\n",
      "\n"
     ]
    },
    {
     "name": "stderr",
     "output_type": "stream",
     "text": [
      "CropBox missing from /Page, defaulting to MediaBox\n",
      "CropBox missing from /Page, defaulting to MediaBox\n",
      "CropBox missing from /Page, defaulting to MediaBox\n",
      "CropBox missing from /Page, defaulting to MediaBox\n",
      "CropBox missing from /Page, defaulting to MediaBox\n",
      "CropBox missing from /Page, defaulting to MediaBox\n",
      "CropBox missing from /Page, defaulting to MediaBox\n",
      "CropBox missing from /Page, defaulting to MediaBox\n",
      "CropBox missing from /Page, defaulting to MediaBox\n",
      "CropBox missing from /Page, defaulting to MediaBox\n",
      "CropBox missing from /Page, defaulting to MediaBox\n"
     ]
    },
    {
     "name": "stdout",
     "output_type": "stream",
     "text": [
      "Processed: pdf_chatbot\\Savings - Documents\\My Savings - Competitors\\Observatório de Mercado (UL - Rede) - Dezembro 2024.pdf\n",
      "  Text saved to: outputs\\Savings - Documents\\My Savings - Competitors\\extracted_text.txt\n",
      "  Images saved to: outputs\\Savings - Documents\\My Savings - Competitors\\images\n",
      "\n"
     ]
    },
    {
     "name": "stderr",
     "output_type": "stream",
     "text": [
      "CropBox missing from /Page, defaulting to MediaBox\n",
      "CropBox missing from /Page, defaulting to MediaBox\n",
      "CropBox missing from /Page, defaulting to MediaBox\n",
      "CropBox missing from /Page, defaulting to MediaBox\n",
      "CropBox missing from /Page, defaulting to MediaBox\n"
     ]
    },
    {
     "name": "stdout",
     "output_type": "stream",
     "text": [
      "Processed: pdf_chatbot\\Savings - Documents\\My Savings - Internal Information\\2025_Pitch Fidelidade Savings.pdf\n",
      "  Text saved to: outputs\\Savings - Documents\\My Savings - Internal Information\\extracted_text.txt\n",
      "  Images saved to: outputs\\Savings - Documents\\My Savings - Internal Information\\images\n",
      "\n",
      "Processed: pdf_chatbot\\Savings - Documents\\My Savings - Internal Information\\22984_P18_Fidelidade_Savings_ Manual do produto_para corrigir.pdf\n",
      "  Text saved to: outputs\\Savings - Documents\\My Savings - Internal Information\\extracted_text.txt\n",
      "  Images saved to: outputs\\Savings - Documents\\My Savings - Internal Information\\images\n",
      "\n",
      "Processed: pdf_chatbot\\Savings - Documents\\My Savings - Internal Information\\22984_P3_Fidelidade_Savings_Faqs_set24.pdf\n",
      "  Text saved to: outputs\\Savings - Documents\\My Savings - Internal Information\\extracted_text.txt\n",
      "  Images saved to: outputs\\Savings - Documents\\My Savings - Internal Information\\images\n",
      "\n",
      "Saved as JPG instead: outputs\\Savings - Documents\\My Savings - Public Information\\images/page1_img1.jpg\n",
      "Saved as JPG instead: outputs\\Savings - Documents\\My Savings - Public Information\\images/page1_img2.jpg\n",
      "Saved as JPG instead: outputs\\Savings - Documents\\My Savings - Public Information\\images/page2_img1.jpg\n",
      "Saved as JPG instead: outputs\\Savings - Documents\\My Savings - Public Information\\images/page3_img1.jpg\n",
      "Saved as JPG instead: outputs\\Savings - Documents\\My Savings - Public Information\\images/page4_img1.jpg\n",
      "Saved as JPG instead: outputs\\Savings - Documents\\My Savings - Public Information\\images/page5_img1.jpg\n",
      "Saved as JPG instead: outputs\\Savings - Documents\\My Savings - Public Information\\images/page6_img1.jpg\n",
      "Saved as JPG instead: outputs\\Savings - Documents\\My Savings - Public Information\\images/page7_img1.jpg\n",
      "Saved as JPG instead: outputs\\Savings - Documents\\My Savings - Public Information\\images/page8_img1.jpg\n",
      "Saved as JPG instead: outputs\\Savings - Documents\\My Savings - Public Information\\images/page9_img1.jpg\n",
      "Saved as JPG instead: outputs\\Savings - Documents\\My Savings - Public Information\\images/page10_img1.jpg\n",
      "Saved as JPG instead: outputs\\Savings - Documents\\My Savings - Public Information\\images/page11_img1.jpg\n",
      "Saved as JPG instead: outputs\\Savings - Documents\\My Savings - Public Information\\images/page12_img1.jpg\n",
      "Saved as JPG instead: outputs\\Savings - Documents\\My Savings - Public Information\\images/page13_img1.jpg\n",
      "Saved as JPG instead: outputs\\Savings - Documents\\My Savings - Public Information\\images/page14_img1.jpg\n",
      "Saved as JPG instead: outputs\\Savings - Documents\\My Savings - Public Information\\images/page15_img1.jpg\n",
      "Saved as JPG instead: outputs\\Savings - Documents\\My Savings - Public Information\\images/page16_img1.jpg\n",
      "Saved as JPG instead: outputs\\Savings - Documents\\My Savings - Public Information\\images/page17_img1.jpg\n",
      "Saved as JPG instead: outputs\\Savings - Documents\\My Savings - Public Information\\images/page18_img1.jpg\n",
      "Saved as JPG instead: outputs\\Savings - Documents\\My Savings - Public Information\\images/page19_img1.jpg\n",
      "Saved as JPG instead: outputs\\Savings - Documents\\My Savings - Public Information\\images/page20_img1.jpg\n",
      "Saved as JPG instead: outputs\\Savings - Documents\\My Savings - Public Information\\images/page21_img1.jpg\n",
      "Saved as JPG instead: outputs\\Savings - Documents\\My Savings - Public Information\\images/page22_img1.jpg\n",
      "Saved as JPG instead: outputs\\Savings - Documents\\My Savings - Public Information\\images/page23_img1.jpg\n",
      "Processed: pdf_chatbot\\Savings - Documents\\My Savings - Public Information\\CG-Fidelidade Savings_ESG-1.pdf\n",
      "  Text saved to: outputs\\Savings - Documents\\My Savings - Public Information\\extracted_text.txt\n",
      "  Images saved to: outputs\\Savings - Documents\\My Savings - Public Information\\images\n",
      "\n",
      "Saved as JPG instead: outputs\\Savings - Documents\\My Savings - Public Information\\images/page1_img1.jpg\n",
      "Processed: pdf_chatbot\\Savings - Documents\\My Savings - Public Information\\IPC+DIF Seguro-Fidelidade Savings_jan2025.pdf\n",
      "  Text saved to: outputs\\Savings - Documents\\My Savings - Public Information\\extracted_text.txt\n",
      "  Images saved to: outputs\\Savings - Documents\\My Savings - Public Information\\images\n",
      "\n"
     ]
    },
    {
     "name": "stderr",
     "output_type": "stream",
     "text": [
      "CropBox missing from /Page, defaulting to MediaBox\n",
      "CropBox missing from /Page, defaulting to MediaBox\n",
      "CropBox missing from /Page, defaulting to MediaBox\n",
      "CropBox missing from /Page, defaulting to MediaBox\n",
      "CropBox missing from /Page, defaulting to MediaBox\n",
      "CropBox missing from /Page, defaulting to MediaBox\n"
     ]
    },
    {
     "name": "stdout",
     "output_type": "stream",
     "text": [
      "Saved as JPG instead: outputs\\Savings - Documents\\My Savings - Public Information\\images/page1_img1.jpg\n",
      "Processed: pdf_chatbot\\Savings - Documents\\My Savings - Public Information\\IPC+DIF_Fid_Savings_Dinâmico (ICAE Ações)-Fidelidade Savings_jan2025.pdf\n",
      "  Text saved to: outputs\\Savings - Documents\\My Savings - Public Information\\extracted_text.txt\n",
      "  Images saved to: outputs\\Savings - Documents\\My Savings - Public Information\\images\n",
      "\n"
     ]
    },
    {
     "name": "stderr",
     "output_type": "stream",
     "text": [
      "CropBox missing from /Page, defaulting to MediaBox\n",
      "CropBox missing from /Page, defaulting to MediaBox\n",
      "CropBox missing from /Page, defaulting to MediaBox\n",
      "CropBox missing from /Page, defaulting to MediaBox\n",
      "CropBox missing from /Page, defaulting to MediaBox\n",
      "CropBox missing from /Page, defaulting to MediaBox\n"
     ]
    },
    {
     "name": "stdout",
     "output_type": "stream",
     "text": [
      "Saved as JPG instead: outputs\\Savings - Documents\\My Savings - Public Information\\images/page1_img1.jpg\n",
      "Processed: pdf_chatbot\\Savings - Documents\\My Savings - Public Information\\IPC+DIF_Fid_Savings_ESG (ICAE Ações)-Fidelidade Savings_jan2025.pdf\n",
      "  Text saved to: outputs\\Savings - Documents\\My Savings - Public Information\\extracted_text.txt\n",
      "  Images saved to: outputs\\Savings - Documents\\My Savings - Public Information\\images\n",
      "\n"
     ]
    },
    {
     "name": "stderr",
     "output_type": "stream",
     "text": [
      "CropBox missing from /Page, defaulting to MediaBox\n",
      "CropBox missing from /Page, defaulting to MediaBox\n",
      "CropBox missing from /Page, defaulting to MediaBox\n",
      "CropBox missing from /Page, defaulting to MediaBox\n",
      "CropBox missing from /Page, defaulting to MediaBox\n",
      "CropBox missing from /Page, defaulting to MediaBox\n"
     ]
    },
    {
     "name": "stdout",
     "output_type": "stream",
     "text": [
      "Saved as JPG instead: outputs\\Savings - Documents\\My Savings - Public Information\\images/page1_img1.jpg\n",
      "Processed: pdf_chatbot\\Savings - Documents\\My Savings - Public Information\\IPC+DIF_Fid_Savings_Proteção-Fidelidade Savings_jan2025.pdf\n",
      "  Text saved to: outputs\\Savings - Documents\\My Savings - Public Information\\extracted_text.txt\n",
      "  Images saved to: outputs\\Savings - Documents\\My Savings - Public Information\\images\n",
      "\n"
     ]
    }
   ],
   "source": [
    "import os\n",
    "from pathlib import Path\n",
    "import pdfplumber\n",
    "import fitz  # PyMuPDF\n",
    "\n",
    "#--------------------------------------------------------------------------\n",
    "# This code will recursively look for pdfs in every subfolder it finds and extract text, images as outputs onto a new folder\n",
    "\n",
    "def find_all_pdfs(root_folder):\n",
    "    pdf_files = []\n",
    "    for dirpath, _, filenames in os.walk(root_folder):\n",
    "        for file in filenames:\n",
    "            if file.lower().endswith(\".pdf\"):\n",
    "                pdf_files.append(os.path.join(dirpath, file))\n",
    "    return pdf_files\n",
    "\n",
    "def extract_text_and_tables(pdf_path):\n",
    "    # <-- YOU NEED TO IMPLEMENT THIS function to extract text + tables using pdfplumber or fitz\n",
    "    # For example (basic text extraction):\n",
    "    text = \"\"\n",
    "    with pdfplumber.open(pdf_path) as pdf:\n",
    "        for page in pdf.pages:\n",
    "            text += page.extract_text() + \"\\n\\n\"\n",
    "    return text\n",
    "\n",
    "def extract_images(pdf_path, output_dir):\n",
    "    Path(output_dir).mkdir(parents=True, exist_ok=True)\n",
    "    doc = fitz.open(pdf_path)\n",
    "\n",
    "    for page_number in range(len(doc)):\n",
    "        page = doc[page_number]\n",
    "        image_list = page.get_images(full=True)\n",
    "\n",
    "        for img_index, img in enumerate(image_list, 1):\n",
    "            xref = img[0]\n",
    "            pix = fitz.Pixmap(doc, xref)\n",
    "\n",
    "            # If it's CMYK or other, convert to RGB first\n",
    "            if pix.n > 4:\n",
    "                pix = fitz.Pixmap(fitz.csRGB, pix)\n",
    "\n",
    "            # Save PNG\n",
    "            image_path = f\"{output_dir}/page{page_number+1}_img{img_index}.png\"\n",
    "            try:\n",
    "                pix.save(image_path)\n",
    "            except ValueError:\n",
    "                # If saving PNG still fails, fallback to save as JPG\n",
    "                image_path_jpg = image_path.replace(\".png\", \".jpg\")\n",
    "                pix.save(image_path_jpg)\n",
    "                print(f\"Saved as JPG instead: {image_path_jpg}\")\n",
    "\n",
    "            pix = None\n",
    "\n",
    "\n",
    "\n",
    "def process_pdf(pdf_path, root_input_folder, root_output_folder):\n",
    "    # Calculate relative path to preserve folder structure in outputs\n",
    "    relative_path = os.path.relpath(pdf_path, root_input_folder)\n",
    "    relative_folder = os.path.dirname(relative_path)\n",
    "\n",
    "    # Prepare output folders\n",
    "    output_text_folder = os.path.join(root_output_folder, relative_folder)\n",
    "    output_images_folder = os.path.join(output_text_folder, \"images\")\n",
    "    os.makedirs(output_text_folder, exist_ok=True)\n",
    "    os.makedirs(output_images_folder, exist_ok=True)\n",
    "\n",
    "    # Extract text + tables\n",
    "    extracted_text = extract_text_and_tables(pdf_path)\n",
    "\n",
    "    # Save text file next to images folder\n",
    "    text_file_path = os.path.join(output_text_folder, \"extracted_text.txt\")\n",
    "    with open(text_file_path, \"w\", encoding=\"utf-8\") as f:\n",
    "        f.write(extracted_text)\n",
    "\n",
    "    # Extract images\n",
    "    extract_images(pdf_path, output_images_folder)\n",
    "\n",
    "    print(f\"Processed: {pdf_path}\")\n",
    "    print(f\"  Text saved to: {text_file_path}\")\n",
    "    print(f\"  Images saved to: {output_images_folder}\\n\")\n",
    "\n",
    "def process_all_pdfs(root_input_folder=\"pdf_chatbot\", root_output_folder=\"outputs\"): #-------> \"pdf_chatbot\" or the name of the folder where this script and the docs are\n",
    "    pdf_files = find_all_pdfs(root_input_folder)\n",
    "    print(f\"Found {len(pdf_files)} PDFs to process.\\n\")\n",
    "    for pdf_file in pdf_files:\n",
    "        process_pdf(pdf_file, root_input_folder, root_output_folder)\n",
    "\n",
    "if __name__ == \"__main__\":\n",
    "    process_all_pdfs()\n"
   ]
  },
  {
   "cell_type": "markdown",
   "metadata": {},
   "source": [
    "To access OpenAi's API key, we made use of NOVA IMS' resources, following these steps:\n",
    "\n",
    "1) Acquiring API key at faculty's provided website\n",
    "2) Defining API key on a text file, assigning it to variable `(\"AZURE_OPENAI_KEY\")`\n",
    "3) Saving file as .env file on the same directory as Python script\n",
    "\n",
    "\n",
    "Then, we loaded the .env file, and initialized the client as defined below:"
   ]
  },
  {
   "cell_type": "code",
   "execution_count": null,
   "metadata": {},
   "outputs": [
    {
     "data": {
      "text/plain": [
       "True"
      ]
     },
     "execution_count": 6,
     "metadata": {},
     "output_type": "execute_result"
    }
   ],
   "source": [
    "# Load env variables\n",
    "load_dotenv()"
   ]
  },
  {
   "cell_type": "code",
   "execution_count": null,
   "metadata": {},
   "outputs": [],
   "source": [
    "# -----------Initializing the AzureOpenAI client\n",
    "client = AzureOpenAI(\n",
    "    azure_endpoint=\"https://ai-bcds.openai.azure.com/\",  # Provided by NOVA IMS\n",
    "    api_key=os.getenv(\"AZURE_OPENAI_KEY\"),               # Securely loaded from .env\n",
    "    api_version=\"2025-01-01-preview\"                     # Version provided or current\n",
    ")"
   ]
  },
  {
   "cell_type": "markdown",
   "metadata": {},
   "source": [
    "<a class=\"anchor\" id=\"loading\"></a>\n",
    "\n",
    "## 2.2. Loading Extracted Text"
   ]
  },
  {
   "cell_type": "markdown",
   "metadata": {},
   "source": [
    "Loading all .txt files under the outputs folder into memory."
   ]
  },
  {
   "cell_type": "code",
   "execution_count": null,
   "metadata": {},
   "outputs": [],
   "source": [
    "def load_all_texts(root_text_folder=\"outputs\"):\n",
    "    all_texts = []\n",
    "    for dirpath, _, files in os.walk(root_text_folder):\n",
    "        for file in files:\n",
    "            if file.endswith(\".txt\"):\n",
    "                filepath = os.path.join(dirpath, file)\n",
    "                with open(filepath, \"r\", encoding=\"utf-8\") as f:\n",
    "                    all_texts.append(f.read())\n",
    "    return all_texts\n",
    "\n",
    "all_texts = load_all_texts()\n"
   ]
  },
  {
   "cell_type": "markdown",
   "metadata": {},
   "source": [
    "<a class=\"anchor\" id=\"chunking\"></a>\n",
    "\n",
    "## 2.3. Text Chunking"
   ]
  },
  {
   "cell_type": "markdown",
   "metadata": {},
   "source": [
    "Splitting text into chunks by paragraph"
   ]
  },
  {
   "cell_type": "code",
   "execution_count": null,
   "metadata": {},
   "outputs": [],
   "source": [
    "def split_text_into_chunks(text, max_chunk_size=700):\n",
    "    import textwrap\n",
    "    # Simple split by paragraphs and further split if too long\n",
    "    paragraphs = text.split(\"\\n\\n\")\n",
    "    chunks = []\n",
    "    for para in paragraphs:\n",
    "        if len(para) <= max_chunk_size:\n",
    "            chunks.append(para.strip())\n",
    "        else:\n",
    "            # split long paragraphs into smaller chunks by max_chunk_size chars\n",
    "            sub_chunks = textwrap.wrap(para, max_chunk_size)\n",
    "            chunks.extend([sc.strip() for sc in sub_chunks])\n",
    "    return chunks\n",
    "\n",
    "chunks = []\n",
    "for text in all_texts:\n",
    "    chunks.extend(split_text_into_chunks(text))\n"
   ]
  },
  {
   "cell_type": "code",
   "execution_count": null,
   "metadata": {},
   "outputs": [
    {
     "name": "stdout",
     "output_type": "stream",
     "text": [
      "Number of chunks: 353\n"
     ]
    }
   ],
   "source": [
    "print(\"Number of chunks:\", len(chunks))"
   ]
  },
  {
   "cell_type": "markdown",
   "metadata": {},
   "source": [
    "<a class=\"anchor\" id=\"RAG\"></a>\n",
    "\n",
    "# 3. RAG - Retrieval Augmentation System"
   ]
  },
  {
   "cell_type": "markdown",
   "metadata": {},
   "source": [
    "<a class=\"anchor\" id=\"embeddings\"></a>\n",
    "\n",
    "## 3.1. Getting Text embeddings"
   ]
  },
  {
   "cell_type": "code",
   "execution_count": null,
   "metadata": {},
   "outputs": [
    {
     "name": "stdout",
     "output_type": "stream",
     "text": [
      "[-0.005540425889194012, 0.0047363233752548695, -0.015009919181466103, -0.027093535289168358, -0.015173893421888351, 0.015173893421888351, -0.0176082756370306, 0.009554633870720863, -0.00942219328135252, -0.030801868066191673, 0.02631150558590889, 0.011169145815074444, -0.023397814482450485, -0.009510486386716366, 0.007700467016547918, 0.010450183413922787, 0.027572842314839363, -0.012581843882799149, 0.012783657759428024, 0.014845944941043854, -0.007164398208260536, -0.003342545125633478, 0.0026251592207700014, 0.007183318492025137, -0.019777776673436165, -0.003979520406574011, 0.010633077472448349, -0.017456915229558945, 0.0280773788690567, -0.030928000807762146, 0.003411918645724654, -0.006385522428900003, -0.007643706630915403, -0.019626416265964508, 0.00947895273566246, -0.01697760634124279, 0.002305094851180911, -0.013332339935004711, 0.020067883655428886, -0.017847929149866104, 0.007240078877657652, 0.009636620059609413, 0.012178216129541397, -0.022590558975934982, -0.03299659490585327, 0.010809664614498615, 0.0024517253041267395, -0.008911351673305035, -0.002087513916194439, 0.02890986204147339, 0.028279192745685577, 0.0021127406507730484, -0.017128966748714447, 0.015287413261830807, -0.016044216230511665, 0.008955498225986958, -0.03163434937596321, 0.0280773788690567, 0.02790079079568386, -0.021076953038573265, -0.000825387891381979, 0.004856150131672621, -0.006584182847291231, 0.003654726082459092, 0.009491566568613052, 0.01511082611978054, 0.003724099602550268, 0.00755541305989027, -0.01657397858798504, 0.01878131926059723, 0.019613802433013916, 0.009554633870720863, -0.003474985482171178, -0.007523879874497652, 0.018718251958489418, -0.0005597186391241848, -0.017583047971129417, 0.0007646860321983695, 0.006095414515584707, 0.0029073834884911776, 0.03549404442310333, -0.02603401057422161, -0.009485259652137756, 0.015363093465566635, 0.02077423222362995, 0.0036421127151697874, -0.0030492839869111776, 0.020004816353321075, -0.015981148928403854, -0.02444472536444664, 0.012033161707222462, 0.014959465712308884, 0.009132085368037224, 0.009712300263345242, -0.012884564697742462, 0.0003496270510368049, -0.007902281358838081, 0.017696568742394447, 0.003903840435668826, -0.04760288819670677, -0.01411436963826418, 0.00015096635615918785, -0.017696568742394447, -0.014177436009049416, -0.00970599427819252, -0.005275545176118612, -0.007391439285129309, 0.00031178692006506026, 0.02319600060582161, 0.0009286599233746529, -0.010002408176660538, 0.015943309292197227, -0.01788576878607273, -0.03413179889321327, 0.005594032816588879, -0.005048504564911127, 0.006164788268506527, -0.006224701646715403, -0.019891295582056046, -0.023296907544136047, 0.013773808255791664, 0.036023806780576706, 0.017267713323235512, -0.025226755067706108, 0.007757227402180433, 0.008097788318991661, -0.04210345447063446, -0.014467543922364712, -0.005414292216300964, -0.012304349802434444, 0.043490923941135406, 0.005622413009405136, 0.013168365694582462, -0.01033035572618246, -0.029237808659672737, 0.016107283532619476, -0.007309452164918184, 0.027068307623267174, -0.011907028034329414, -0.01765872910618782, 0.0028222431428730488, 0.027572842314839363, 0.018365077674388885, -0.013281886465847492, -0.0029988305177539587, 0.001986606977880001, 0.003903840435668826, -0.02246442623436451, 0.009724914096295834, -0.01845337077975273, 0.011585387401282787, 0.02139228768646717, -0.0011312622809782624, 0.00407412089407444, 0.013281886465847492, 0.012443097308278084, -0.001858896459452808, 0.027371028438210487, 0.008526642806828022, -0.005341765470802784, 0.006048114504665136, 0.00323217804543674, -0.0040552010759711266, -0.03736082464456558, 0.012846725061535835, 0.02822873927652836, 0.029237808659672737, -0.0069184377789497375, 0.00033464867738075554, -0.027244895696640015, -0.012499856762588024, 0.010059168562293053, -0.0373355969786644, 0.01975254900753498, -0.016145123168826103, 0.005039044190198183, -0.0038660001009702682, 0.022880665957927704, -0.01347108744084835, -0.014833332039415836, -0.031886618584394455, 0.014845944941043854, 0.005360685288906097, 0.024797899648547173, 0.006956277880817652, 0.0011832924792543054, 0.01403868943452835, -0.005203018430620432, 0.0031123508233577013, -0.020357990637421608, 0.015236959792673588, 0.028026925399899483, 0.03218933939933777, 0.008589710108935833, -0.6861677169799805, -0.00973122101277113, 0.01822633109986782, 0.0209382064640522, 0.015400934033095837, 0.007996881380677223, 0.014076529070734978, 0.029742343351244926, 0.005433212500065565, 0.032391153275966644, -0.012424176558852196, 0.020950820297002792, -0.00854556355625391, -0.007820294238626957, -0.005556192714720964, -0.007826601155102253, 0.00235554832033813, -0.02426813915371895, -0.020067883655428886, 0.01738123409450054, -0.0012912944657728076, 0.030700961127877235, -0.02110218070447445, -0.013988235965371132, 0.006205781828612089, 0.006779690273106098, 0.007883360609412193, -0.007290532346814871, -0.01675056479871273, 0.025327662006020546, -0.008614936843514442, 0.020042655989527702, -0.0023066713474690914, 0.0026566926389932632, 0.06967629492282867, 0.02139228768646717, -0.0020938205998390913, 0.01895790547132492, 0.0019818770233541727, 0.03112981654703617, -0.011862881481647491, -0.013912555761635303, 0.001475765137001872, -0.017267713323235512, 0.004982284270226955, 0.009239299222826958, 0.010815971530973911, -0.004269628319889307, -0.0009113165433518589, 0.010639384388923645, 0.02438165806233883, -0.014354023151099682, 0.01879393309354782, 0.015829788520932198, 0.0011438756482675672, 0.010021327994763851, 0.016838859766721725, 0.010267289355397224, -0.002582588931545615, 0.0033961518201977015, 0.0012140375329181552, 0.021354448050260544, -0.005606646183878183, 0.0008892430923879147, -0.011787201277911663, 0.025378115475177765, -0.023473495617508888, 0.006300381850451231, -0.005480512510985136, -0.01055739726871252, 0.0005955879460088909, -0.003091854276135564, -0.02025708369910717, -0.014429704286158085, 0.019702095538377762, 0.033248864114284515, 0.0057548535987734795, -0.01248093694448471, -0.013773808255791664, 0.020219244062900543, 0.011818734928965569, 0.003925913944840431, -0.020635485649108887, -0.02556731551885605, 0.01900836080312729, -0.01623341627418995, -0.03342545032501221, -0.013117912225425243, -0.0011194372782483697, 0.005477359052747488, 0.029742343351244926, 0.002003950299695134, -0.009535713121294975, -0.01839030534029007, 0.026185370981693268, -0.003333084983751178, -0.009907808154821396, 0.00899964477866888, 0.025088008493185043, 0.003534899093210697, 0.0069121308624744415, 0.005521506071090698, 0.0033772317692637444, 0.008381589315831661, 0.017053285613656044, -0.011043012142181396, 0.0038407733663916588, 0.022678852081298828, 0.020812073722481728, -0.020496739074587822, 0.007252692244946957, 0.0012203442165628076, -0.034888602793216705, 0.022325677797198296, 0.011396186426281929, -0.02868282049894333, -0.001720149302855134, 0.018920065835118294, 0.020837299525737762, -0.01680101826786995, 0.019109267741441727, -0.002019717125222087, 0.018743479624390602, 0.003525438951328397, 0.002965720370411873, 0.008633856661617756, -0.005029584281146526, 0.0064706625416874886, -0.003195914439857006, -0.00928344577550888, 0.027799883857369423, -0.003620039438828826, 0.009359125979244709, -0.004108807537704706, 0.003780859988182783, -0.0030319406650960445, 0.006158481352031231, -0.012146682478487492, 0.006003967486321926, 0.0172046460211277, -0.01236111018806696, -0.008078868500888348, -0.011276359669864178, 0.010071782395243645, 0.005925134290009737, -0.0172046460211277, -0.018756091594696045, -0.010267289355397224, 0.0016089939745143056, -0.008930271491408348, 0.010361889377236366, -0.016094669699668884, -0.0373355969786644, 0.03178571164608002, -0.007618479896336794, -0.00440206890925765, 0.005338612012565136, -0.0269421748816967, -0.0422043614089489, -0.03385430574417114, 0.009573553688824177, 0.014707198366522789, -0.01016007550060749, 0.0029278802685439587, -0.004231788218021393, -0.027799883857369423, -0.025378115475177765, 0.009327592328190804, -0.0004458040639292449, -0.02636195905506611, 0.011761974543333054, -0.005272391717880964, -0.014026075601577759, 0.0007745402399450541, -0.004938137251883745, 0.020496739074587822, -0.015817174687981606, -0.010513249784708023, 0.005291312001645565, -0.015627974644303322, 0.005931440740823746, -0.01775963604450226, -0.021076953038573265, 0.02019401825964451, 0.014026075601577759, -0.0046764095313847065, 0.0030303639359772205, 0.029691889882087708, -0.010790744796395302, 0.006729236803948879, 0.015211733058094978, 0.0044903624802827835, -0.018705638125538826, 0.0014986268943175673, 0.004654336255043745, -0.01585501618683338, 0.006483275908976793, -0.004998050630092621, 0.01044387649744749, 0.014984692446887493, 0.03985827416181564, 0.0015766721917316318, 0.026866493746638298, -0.02235090546309948, 0.0020480970852077007, -0.016712725162506104, -0.005398525390774012, -0.020231857895851135, 0.014278342947363853, 0.022590558975934982, 0.006905824411660433, -0.012398949824273586, -0.0015380437253043056, 0.027421481907367706, 0.008835670538246632, 0.0324668325483799, -8.69633222464472e-05, -0.009586166590452194, -0.02189682424068451, 0.005546732805669308, 0.0011218022555112839, 0.008186082355678082, -0.008558176457881927, -0.007895974442362785, 0.022136477753520012, 0.036578793078660965, 0.00016338266141247004, 0.03985827416181564, -0.0009460033033974469, -0.024633925408124924, -0.03271910175681114, 0.010052861645817757, 0.011030398309230804, 0.009945647791028023, -0.010248369537293911, 0.00210801069624722, 0.0087662972509861, -0.024015869945287704, 0.027648523449897766, 0.003638959489762783, -0.008305909112095833, 0.006407595705240965, 0.0252393689006567, -0.021467968821525574, 0.009018564596772194, 0.03637697920203209, 0.007858133874833584, -0.010431263595819473, -0.001721726031973958, 0.03673015534877777, -0.003957447130233049, 0.0004619649553205818, -0.008450962603092194, 0.0031754178926348686, 0.0010051284916698933, -0.03809240087866783, -0.006379215512424707, -0.015009919181466103, 0.027976471930742264, 0.03264342248439789, 0.019260628148913383, 0.0020622871816158295, -0.000930236594285816, -0.011377266608178616, 0.010393423028290272, -0.0186677984893322, 0.007019344717264175, -0.015451387502253056, 0.0024343817494809628, -0.01748214103281498, -0.008419429883360863, -0.0030823941342532635, 0.012827805243432522, -0.0176082756370306, 0.009598780423402786, -0.007605866529047489, -0.004534509032964706, -0.004547122400254011, -0.0067733838222920895, -0.0030335173942148685, -0.016964992508292198, -0.017229873687028885, 0.0019219634123146534, 0.015035145916044712, -0.002932610223069787, -0.023574402555823326, -0.031432535499334335, -0.0020339072216302156, 0.008205002173781395, -0.0024864119477570057, -0.023624856024980545, 0.008343749679625034, 0.025882650166749954, -0.02342304214835167, 0.005975587759166956, 0.005193558055907488, 0.02100127376616001, -0.0008151395013555884, -0.0044872090220451355, -0.011024092324078083, 0.02585742436349392, 0.009087938815355301, 0.0027260661590844393, -0.020610257983207703, 0.0166370440274477, 0.0031722644343972206, -0.013546767644584179, -0.021934663876891136, -0.0036074260715395212, -0.0015750954626128078, -0.002316131489351392, 0.0012305926065891981, -0.004903450608253479, 0.002322438172996044, 0.018150649964809418, -0.0029199968557804823, -0.0018415531376376748, 0.012096229009330273, 0.02483574114739895, -0.0055025857873260975, -0.010973638854920864, -0.006697703618556261, -0.02603401057422161, -0.013017005287110806, 0.07330895215272903, 0.004039434250444174, -0.003563279053196311, 0.01463151816278696, -0.008696923963725567, -0.0034907523076981306, -0.04510543867945671, -0.027572842314839363, -0.006183708552271128, 0.0013953548623248935, -0.0003389845078345388, -0.007145478390157223, 1.1942060154979117e-05, 0.020837299525737762, 0.026462865993380547, 0.0007469484698958695, 0.0012660677311941981, -0.02460869960486889, -0.013571994379162788, 0.0011218022555112839, 0.004717403091490269, 0.005666560027748346, -0.00452504912391305, 0.016737952828407288, 0.021203087642788887, 0.0033456983510404825, 0.0054552857764065266, 0.01827678456902504, -0.0013606681022793055, 0.00016545203106943518, 0.014467543922364712, -0.006272002123296261, 0.01657397858798504, 0.007725693751126528, 0.017923610284924507, 0.014215276576578617, 0.008312216028571129, 0.03090277500450611, 0.009485259652137756, -0.005436365492641926, 0.017557822167873383, 0.007694160100072622, -0.003370925085619092, -0.022325677797198296, 0.017166806384921074, 0.01117545273154974, -0.009970874525606632, 0.013042232021689415, 0.0029184201266616583, -0.03304705023765564, 0.02428075112402439, -0.0057044001296162605, -0.011415106244385242, -0.022678852081298828, -0.012127762660384178, 0.014341410249471664, -0.004714249633252621, -0.014303569681942463, -0.01029882300645113, -0.011616921052336693, -0.004061507526785135, -0.010393423028290272, -0.01585501618683338, -0.004610189702361822, -0.025050166994333267, -0.026740361005067825, -0.02489880658686161, 0.010853811167180538, -0.014946852810680866, -0.003951140679419041, -0.013912555761635303, -0.038950107991695404, -0.010349276475608349, 0.009264525957405567, 0.019815616309642792, 0.0017784861847758293, -0.006836450658738613, -0.008097788318991661, 0.0002845893322955817, 0.013622447848320007, 0.0003474591358099133, -0.028203511610627174, 0.0008876664214767516, 0.002376045100390911, 0.01579194888472557, 0.010008715093135834, 0.007895974442362785, 0.006823837291449308, -0.014467543922364712, 0.026235824450850487, 0.012733204290270805, 0.001370916492305696, 0.027598069980740547, -0.009207765571773052, 0.02636195905506611, 0.0021679243072867393, 0.0071013313718140125, -0.007038264535367489, -0.013597221113741398, 0.006325609050691128, 0.0006602314533665776, -0.014341410249471664, -0.008923964574933052, 0.003211681265383959, 0.0030839708633720875, 0.016611818224191666, 0.014505384489893913, 0.02235090546309948, -0.027017854154109955, -0.005921980831772089, 0.03163434937596321, -0.028380099684000015, 0.01936153508722782, -0.012171909213066101, -0.002904230263084173, 0.016271257773041725, 0.02087513916194439, 0.030297333374619484, -0.005537272896617651, -0.027118761092424393, -0.01231065671890974, -0.0246717669069767, 0.0018573198467493057, 0.017633501440286636, 0.020345378667116165, -0.0038786137010902166, 0.006193168461322784, -0.019676869735121727, -0.006628329865634441, -0.01686408556997776, -0.01579194888472557, 0.02473483420908451, -0.001685462542809546, -0.01463151816278696, -0.028531460091471672, -0.013218820095062256, -0.007441892754286528, -0.0016791558591648936, -0.009693380445241928, -0.01454322412610054, -0.019727323204278946, -0.005663406569510698, -0.0014395017642527819, -0.01077813096344471, -0.04142233356833458, -0.048813771456480026, -0.014215276576578617, 0.004594422876834869, -0.009598780423402786, 0.01566581428050995, -0.00871584378182888, 0.0024643386714160442, -0.01566581428050995, -0.008608629927039146, -0.008343749679625034, -0.013294500298798084, 0.007435585837811232, -0.010450183413922787, 0.02817828580737114, 0.02590787783265114, 0.034661561250686646, 0.006565263029187918, 0.0007757227285765111, 0.014845944941043854, -0.0053102318197488785, -0.020509351044893265, 0.0032920914236456156, -0.01798667572438717, -0.014946852810680866, 0.009794287383556366, 0.018642572686076164, 0.03054960072040558, 0.0027528696227818727, 0.020105723291635513, 0.0009034331887960434, 0.0004891625721938908, -0.015804562717676163, -0.0008774180896580219, -0.016788406297564507, -0.014417090453207493, -0.016611818224191666, 0.004638569429516792, 0.0029483770485967398, 0.011206986382603645, 0.018314624205231667, -7.082707270456012e-06, 0.022199545055627823, 0.01408914290368557, 0.02043367177248001, 0.003727253060787916, 0.036023806780576706, -0.020130950957536697, 0.026210598647594452, 0.003474985482171178, 0.007385132368654013, -0.009668153710663319, 0.006174248177558184, -0.001355149783194065, 0.01029882300645113, 0.017128966748714447, 0.015123439952731133, 0.024179844185709953, -0.0177722480148077, -0.015148666687309742, -0.0034466052893549204, 0.02999461255967617, 0.006691396702080965, 0.007858133874833584, 0.006265695206820965, -0.013836875557899475, 0.004086734261363745, -0.015527067705988884, 0.0073472922667860985, -0.013319727033376694, 0.0085203368216753, -0.005130491219460964, -0.02626105211675167, 0.028985541313886642, -0.009554633870720863, -0.024924034252762794, -0.00478362338617444, 0.0009018565178848803, 0.042456626892089844, 0.0020417904015630484, 0.010052861645817757, 0.01941198855638504, 0.005158871412277222, -0.007221158593893051, 0.02201034314930439, -0.02557992935180664, -0.004282241687178612, 0.03367771953344345, 0.000632639741525054, 0.0037524797953665257, -0.01912187971174717, 0.006117488257586956, 0.0027844030410051346, -0.01613250933587551, -0.028607139363884926, 0.016838859766721725, 0.021631943061947823, -0.0033267783001065254, -0.020698552951216698, 0.013963009230792522, -0.03367771953344345, 0.015590135008096695, 0.0004233364888932556, -0.013080072589218616, -0.02230045199394226, 0.005013817455619574, -0.01295393891632557, 0.010500636883080006, -0.028531460091471672, 0.02274191938340664, 0.02426813915371895, -0.005994507577270269, -0.011143919080495834, -0.004723710007965565, 0.004496668931096792, 0.0009909385116770864, -0.013420633971691132, 0.02568083629012108, -0.006672476883977652, 0.015564908273518085, 0.0087662972509861, 0.004846690222620964, -0.028657592833042145, -0.00263934931717813, -0.0014670934760943055, 0.017797475680708885, -0.021240927278995514, 0.0015735188499093056, -0.008179775439202785, 0.01143402699381113, 0.00698781106621027, 0.01749475486576557, -0.008488803170621395, -0.0061332546174526215, -0.004209714941680431, -0.0009641350479796529, 0.021531036123633385, -0.01395039539784193, -0.006044961046427488, -0.01567842811346054, -0.013130526058375835, -0.029490076005458832, -0.03592289984226227, 0.004307468421757221, 0.0033173183910548687, -0.03196229785680771, -0.008438349701464176, -0.00829329527914524, -0.003088700817897916, 0.022552719339728355, 0.007971654646098614, -0.010286209173500538, 0.005231398157775402, 0.02251487970352173, -0.023574402555823326, -0.00456919614225626, 0.011301586404442787, 0.016674885526299477, -0.021064341068267822, 0.023952804505825043, -0.0030082904268056154, -0.015766721218824387, 0.004449368920177221, -0.01685147173702717, -0.006448589265346527, 0.010639384388923645, 0.009724914096295834, 0.00551835261285305, 0.003282631514593959, 0.0038943802937865257, 0.027345802634954453, 0.02590787783265114, 0.008425735868513584, -0.010563703253865242, -0.001985030248761177, 0.030373012647032738, -0.007448199205100536, 0.00249744881875813, -0.005925134290009737, -0.006628329865634441, 0.0087662972509861, -0.009699687361717224, -0.003705179551616311, 0.0003050860541407019, -0.03592289984226227, -0.009781674481928349, -0.0034308386966586113, 0.009523100219666958, 0.0057580070570111275, -0.01595592312514782, -0.030246879905462265, -0.01902097277343273, -0.0350651890039444, 0.0029625671450048685, 0.002965720370411873, -0.021480582654476166, 0.01635955087840557, 0.004212867934256792, 0.010670917108654976, 0.0016097823390737176, 0.006265695206820965, -0.01511082611978054, -0.024520406499505043, -0.008526642806828022, -0.017292940989136696, -0.011358346790075302, -0.011591694317758083, 0.023170774802565575, 0.006063881330192089, -0.008312216028571129, -0.01646045781672001, -0.006344528868794441, -0.03410657122731209, -0.021076953038573265, -0.011793508194386959, 0.004134034272283316, -0.009119471535086632, 0.01668749935925007, -0.009844740852713585, 0.03231547400355339, 0.005149411503225565, 0.0029893703758716583, 0.0019361533923074603, -0.025731289759278297, 0.012121455743908882, -0.0037840132135897875, 0.026563772931694984, -0.005499432794749737, -0.026160145178437233, -0.006218395195901394, 0.008066254667937756, 0.013180979527533054, -0.0085203368216753, 0.012373723089694977, -0.013344953767955303, -0.005244011525064707, -0.009201458655297756, 0.0031517676543444395, -0.0012597610475495458, 0.006048114504665136, 0.024406885728240013, -0.011591694317758083, -0.0014182166196405888, -0.0016381624154746532, -0.006054421421140432, 0.005764313507825136, -0.00019373359100427479, 0.015363093465566635, -0.009813208132982254, 0.025655610486865044, -0.0160694420337677, -0.004979130811989307, -0.0009231415460817516, -0.02116524800658226, 0.02019401825964451, -0.021543648093938828, 0.008968111127614975, 0.024255525320768356, 0.009844740852713585, 0.0006641731597483158, -0.0023445114493370056, 0.0014134866651147604, -0.004449368920177221, 0.007000424433499575, 8.874940249370411e-06, -0.013218820095062256, 0.0053070783615112305, -0.00727161206305027, -0.01579194888472557, -0.03849602863192558, 0.0037335597444325686, -0.024230297654867172, -0.013912555761635303, 0.001158065744675696, 0.026462865993380547, 0.014051302336156368, -0.03226501867175102, -0.010027634911239147, -0.01748214103281498, 0.014480157755315304, 0.008110402151942253, -0.009958261623978615, 0.006792303640395403, -0.0033488518092781305, -0.004758396651595831, 0.01957596279680729, -0.02121570147573948, -0.008425735868513584, 0.009214072488248348, 0.01816326379776001, -0.0036294993478804827, 0.037991493940353394, 0.24015870690345764, -0.01963902823626995, -0.008205002173781395, 0.02285544015467167, 0.021430129185318947, 0.016952378675341606, 0.003162804525345564, 0.0028900401666760445, 0.003705179551616311, 0.009825821034610271, -0.006007120944559574, 0.00022428161173593253, -0.012720591388642788, 0.009415886364877224, 0.004452522378414869, 0.00705718481913209, -0.020017430186271667, -0.025151073932647705, -0.027698976919054985, -0.025731289759278297, 0.008936578407883644, -0.02835487201809883, -0.022994186729192734, -0.017166806384921074, 0.016447843983769417, -0.012367417104542255, -0.012512470595538616, -0.006741850171238184, 0.030978454276919365, 0.011692601256072521, 0.00421602139249444, -0.018415531143546104, 0.014782878570258617, 0.0017784861847758293, -0.023675309494137764, -0.013609834015369415, 0.026008784770965576, 0.005915673915296793, 0.026891721412539482, 0.012411563657224178, -0.013168365694582462, -0.006193168461322784, -0.012241282500326633, -0.014480157755315304, 0.003478138940408826, 0.011774587444961071, 0.002841163193807006, -0.02936394326388836, 0.019311081618070602, 0.0324668325483799, 0.00601342786103487, 0.013988235965371132, 0.021430129185318947, 0.03312272951006889, 0.002778096357360482, -0.005606646183878183, 0.005713860038667917, 0.01861734502017498, -0.012209749780595303, -0.002264101291075349, -0.007845520973205566, 0.03715901076793671, 0.00411826791241765, 0.03685628995299339, -0.01918494701385498, 0.0028395866975188255, -0.02626105211675167, -0.009560939855873585, 0.008949191309511662, -0.008394203148782253, -0.01900836080312729, -0.003402458503842354, 0.007050877902656794, -0.009573553688824177, -0.026841267943382263, -0.021985117346048355, 0.008501416072249413, 0.00642020907253027, 0.03645266219973564, 0.036023806780576706, -0.007202238775789738, 0.0020654406398534775, 0.0001876239839475602, -0.025668222457170486, -0.034661561250686646, -0.040034860372543335, -0.0002487200254108757, -0.0069121308624744415, -0.011572773568332195, -0.023662695661187172, -0.008425735868513584, -0.01850382424890995, -0.004058354068547487, -0.007322065532207489, 0.016498297452926636, 0.01936153508722782, 0.0009893617825582623, 0.007372519001364708, -0.010683530941605568, 0.014858558773994446, -0.011339426040649414, 0.011055625043809414, 0.006931051146239042, 0.001140722306445241, -0.0004201831470709294, 0.011799815110862255, -0.003884920384734869, -0.0014008732978254557, 0.00011480144166853279, -0.01248093694448471, -0.018629958853125572, -0.01349631417542696, 0.00826176255941391, 0.004752090200781822, -0.009346513077616692, 0.008299602195620537, -0.017696568742394447, -0.0026109691243618727, 0.0002039819664787501, -0.0018021363066509366, -0.006398135796189308, -0.013761194422841072, -0.006183708552271128, 0.001141510671004653, 0.0003108014934696257, -0.020231857895851135, -0.006540036294609308, 0.007303145714104176, 0.014795491471886635, -0.033475905656814575, 0.0029184201266616583, -0.003024057252332568, 0.010910571552813053, 0.0057580070570111275, -0.006246775388717651, 0.0012211325811222196, 0.0166370440274477, -0.0012676444603130221, -0.015993762761354446, -0.002068593865260482, -0.005155717954039574, -0.005389065481722355, 0.0027449862100183964, -0.008987031877040863, -0.010078088380396366, -0.0055088927038013935, 0.03693196922540665, -0.022136477753520012, -0.02043367177248001, 0.006495889276266098, -0.039252832531929016, -0.012039468623697758, -0.0058936006389558315, -0.012562924064695835, 0.02303202822804451, -0.018024517223238945, -0.021808529272675514, -0.014959465712308884, -0.0008159278659150004, 0.004547122400254011, -0.011522320099174976, 0.021795915439724922, 0.0280016977339983, -0.005985047668218613, -0.031609125435352325, -0.019437214359641075, -0.16185486316680908, 0.018869612365961075, 0.01670011132955551, -0.01080335769802332, 0.02116524800658226, 0.015464000403881073, 0.028430553153157234, -0.003998440690338612, -0.008892430923879147, 0.010027634911239147, 0.0015924389008432627, -0.011364652775228024, -0.021745461970567703, -0.017456915229558945, 0.000562477798666805, -0.020698552951216698, -0.0006740273674950004, 0.0246717669069767, 0.03900056332349777, 0.028758501634001732, 0.035746313631534576, -0.004509282298386097, 0.0064706625416874886, -0.011919641867280006, 0.00845726951956749, -0.0011123422300443053, 0.0029278802685439587, 0.027522388845682144, -0.00987627450376749, -0.006067034788429737, -0.012846725061535835, -0.03054960072040558, 0.029111675918102264, 0.007826601155102253, 0.014290956780314445, -0.005407985765486956, 0.008116708137094975, -0.0392780564725399, -0.00271029956638813, 0.024205071851611137, 0.026891721412539482, 0.013483700342476368, 0.008110402151942253, -0.015640588477253914, -0.017974063754081726, -0.00023157372197601944, 0.017683954909443855, 0.011206986382603645, 0.019424600526690483, 0.0016555058537051082, 0.00587152736261487, 0.000562871980946511, 0.006435975898057222, 0.0004891625721938908, 0.024205071851611137, 0.026462865993380547, 0.010134848766028881, 0.019840842112898827, 0.010178995318710804, -0.011894415132701397, -0.007492346223443747, -0.009693380445241928, 0.0003376049280632287, -0.009863661602139473, 0.010122235864400864, -0.0035538191441446543, -0.0023476649075746536, 0.013660287484526634, -0.006880597211420536, 0.020345378667116165, -0.00916992500424385, -0.022022956982254982, -0.009895194321870804, -0.024810513481497765, 0.011881801299750805, -0.00047339583397842944, -0.041901640594005585, 0.027799883857369423, -0.003478138940408826, -0.0007875477313064039, -0.003402458503842354, 0.019046200439333916, -0.0036452661734074354, 0.002618852537125349, -0.012462017126381397, 0.0035758924204856157, -0.0012321693357080221, 0.009933034889400005, -0.024406885728240013, -0.0280016977339983, 0.009106858633458614, -0.014795491471886635, -0.01670011132955551, -0.018529051914811134, 0.004594422876834869, 0.007725693751126528, 0.018138036131858826, 0.021594101563096046, -0.0038975337520241737, -0.01248093694448471, 0.0019125033868476748, 0.012184523046016693, -0.011024092324078083, 0.007366212550550699, 0.015918081626296043, -0.011333120055496693, 0.019512895494699478, 0.012518777512013912, 0.014013462699949741, -0.029439622536301613, -0.0229689609259367, 0.007858133874833584, 0.01044387649744749, 0.01991652324795723, 0.013420633971691132, 0.02579435706138611, -0.012253896333277225, -0.010904264636337757, 0.004266474861651659, -0.01145925372838974, 0.050276923924684525, 0.0019330000504851341, -0.038622163236141205, -0.0021032807417213917, 0.004212867934256792, 0.008507722988724709, -0.07583162188529968, -0.04011053964495659, 0.0047331699170172215, 0.016056830063462257, -0.0002684284409042448, 0.029893705621361732, -0.0031170810107141733, 0.0050705778412520885, 0.014316183514893055, 0.005962974391877651, 0.004316928330808878, -0.02676558680832386, -0.021240927278995514, -0.011692601256072521, 0.04129619896411896, -0.02048412524163723, 0.0038187000900506973, -0.001985030248761177, -0.03241638094186783, 0.021152634173631668, -0.01248093694448471, 0.0012384760193526745, 0.00025719465338625014, -0.004616496153175831, -0.02699262835085392, 0.0045408159494400024, -0.02348610945045948, 0.03514086827635765, 0.00959247350692749, -0.009251912124454975, -0.02343565598130226, -0.016195576637983322, -0.013180979527533054, -0.0036736461333930492, -0.019500281661748886, 0.016334323212504387, -0.03985827416181564, 0.030095519497990608, 0.008331135846674442, -0.03241638094186783, 0.0350651890039444, 0.008753684349358082, -0.011112385429441929, -0.05042828246951103, -0.007082411553710699, 0.009151005186140537, 0.009781674481928349, 0.039580777287483215, 0.014921625144779682, -0.013395407237112522, -0.01465674489736557, -0.03223979473114014, -0.027825111523270607, 0.008242841809988022, 0.01928585395216942, -0.005928287282586098, 0.009037485346198082, 0.03498950973153114, -0.012676444835960865, 0.008703230880200863, 0.005915673915296793, 0.0035065189003944397, -0.035620179027318954, 0.016044216230511665, -0.010702450759708881, 0.008135628886520863, -0.02314554713666439, 0.01725510135293007, 0.015577521175146103, 0.006076494697481394, -0.017797475680708885, 0.024570859968662262, 0.0050674243830144405, 0.011181758716702461, -0.03809240087866783, 0.0015601171180605888, -0.012127762660384178, -0.024305978789925575, 0.015325253829360008, -0.009251912124454975, -0.03254251554608345, -0.021240927278995514, -0.0020449438598006964, -0.006590489763766527, 0.031205495819449425, 0.01395039539784193, -0.002915266901254654, 0.00421602139249444, -0.013294500298798084, -0.03032255917787552, -0.022590558975934982, 0.009542020037770271, 0.00817346852272749, -0.011389879509806633, 0.00537645211443305, 0.004698483273386955, -0.01233588345348835, 0.0020969740580767393, 0.011951175518333912, 0.020849913358688354, -0.02160671539604664, -0.01595592312514782, -0.06690135598182678, 0.022275224328041077, -0.012089922092854977, -0.014202662743628025, 0.011358346790075302, -0.013849488459527493, 0.010904264636337757, -0.02590787783265114, 0.0018147496739402413, -0.009214072488248348, -0.02195988968014717, -0.005937747657299042, 0.0011115538654848933, 0.005953514017164707, -0.0258069708943367, 0.006975197698920965, 0.024432111531496048, 0.014366636984050274, 0.013143138960003853, -0.0003228236164432019, 0.004553429316729307, -0.026639454066753387, -0.019437214359641075, 0.008419429883360863, -0.01765872910618782, 0.010254675522446632, -0.0291369017213583, 0.004654336255043745, -0.0042412481270730495, -0.012443097308278084, 0.0020843606907874346, -0.043314337730407715, -7.848870882298797e-05, 0.033299315720796585, 0.0023429349530488253, -0.010910571552813053, -0.0031501909252256155, 0.015741495415568352, 0.010229448787868023, 0.020383218303322792, -0.03627607226371765, -0.021076953038573265, 0.017192034050822258, -0.003199067898094654, -0.0028017465956509113, -0.0035916592460125685, -0.003421378554776311, -0.014694584533572197, 0.018579505383968353, 0.01675056479871273, -0.0032037978526204824, 0.030524373054504395, -0.02460869960486889, -0.009403272531926632, -0.02303202822804451, -0.008015801198780537, -0.020294925197958946, -0.007744613569229841, -0.00916361901909113, -0.04197731986641884, 0.020332764834165573, 0.0017942528938874602, 0.015943309292197227, -0.007391439285129309, 0.006476969458162785, 0.0025715522933751345, -0.019790388643741608, -0.001969263656064868, -0.016309097409248352, -0.0280016977339983, -0.005600339733064175, -0.0067229303531348705, 0.006319302134215832, 0.012216055765748024, 0.02365008369088173, 0.018655184656381607, -0.012209749780595303, 0.019475053995847702, -0.03988349810242653, 0.036301299929618835, 0.01798667572438717, 0.026160145178437233, -0.02575651742517948, -0.0007623209967277944, 0.02931348979473114, 0.0063886758871376514, -0.00996456854045391, -0.009510486386716366, -0.005786386784166098, 0.0065211160108447075, -0.030347786843776703, -0.017860542982816696, 0.004474595654755831, 0.03337499871850014, -0.005606646183878183, 0.003025633981451392, 0.01934892125427723, 0.009264525957405567, 0.022905893623828888, 0.018238943070173264, 0.0034592188894748688, 0.006779690273106098, -0.007290532346814871, 0.002830126555636525, -0.01861734502017498, -0.0015522338217124343, -0.0054489788599312305, -0.03947987034916878, -0.004707943182438612, 0.016283869743347168, 0.009144698269665241, 0.01946244202554226, -0.0009877851698547602, 0.011837654747068882, -0.02959098294377327, -0.005682326387614012, 0.022767147049307823, -0.012348496355116367, -0.032567739486694336, 0.034712016582489014, -0.006448589265346527, -0.0036452661734074354, 0.02704308182001114, -0.027825111523270607, 0.011989015154540539, 0.0020607104524970055, -0.003085547359660268, -0.00397636741399765, 0.018655184656381607, -0.002090667374432087, 0.017721794545650482, -0.003323625074699521, -0.012707977555692196, -0.0198030024766922, -0.009214072488248348, -0.00013135650078766048, -0.009983488358557224, 0.024142004549503326, -0.009289752691984177, 0.05958559364080429, -0.003859693417325616, -0.005956667475402355, 0.014391863718628883, 0.01624603010714054, 0.019954362884163857, 0.01338279340416193, 0.022653626278042793, -0.007454506121575832, -0.023523949086666107, -0.013597221113741398, 0.010412342846393585, -0.005332305561751127, -0.02043367177248001, -0.012625990435481071, 0.0006645673420280218, -0.020156176760792732, -0.003812393406406045, -0.010027634911239147, 0.009775367565453053, 0.02324645407497883, 0.006026041228324175, 0.009485259652137756, 0.012443097308278084, -0.01996697671711445, -0.016788406297564507, 0.00698781106621027, 0.009378045797348022, -0.01844075880944729, -0.032618194818496704, 0.016170350834727287, 0.0031360010616481304, -0.0021647708490490913, -0.006937357597053051, 0.0016618125373497605, -0.00046984830987639725, -0.005108417943120003, -0.005281851626932621, 0.008362669497728348, 0.011932254768908024, 0.015085599385201931, 0.005061117932200432, -0.016208190470933914, -0.03072618693113327, 0.013761194422841072, 0.005335458554327488, -0.031079363077878952, -0.01527480036020279, -0.007082411553710699]\n"
     ]
    }
   ],
   "source": [
    "def get_embedding(text):\n",
    "    try:\n",
    "        response = client.embeddings.create(\n",
    "            model=\"text-embedding-ada-002\",\n",
    "            input=text\n",
    "        )\n",
    "        return response.data[0].embedding\n",
    "    except Exception as e:\n",
    "        print(f\"Embedding failed for input: {text[:30]}... | Error: {e}\")\n",
    "        return None\n",
    "\n",
    "\n",
    "# Normalize embeddings for cosine similarity\n",
    "def normalize_embeddings(embeddings):\n",
    "    norms = np.linalg.norm(embeddings, axis=1, keepdims=True)\n",
    "    return embeddings / norms\n",
    "\n",
    "# Example usage\n",
    "embedding = get_embedding(\"Hello world\")\n",
    "print(embedding)"
   ]
  },
  {
   "cell_type": "code",
   "execution_count": null,
   "metadata": {},
   "outputs": [],
   "source": [
    "chunk_embeddings = []\n",
    "for i, chunk in enumerate(chunks):\n",
    "    emb = get_embedding(chunk)\n",
    "    if emb is not None:\n",
    "        chunk_embeddings.append(np.array(emb).astype('float32'))\n",
    "    else:\n",
    "        print(f\"[WARNING] No embedding returned for chunk {i}\")\n",
    "\n",
    "if not chunk_embeddings:\n",
    "    raise ValueError(\"❌ No embeddings were created. Check your API key, model name, or rate limits.\")\n"
   ]
  },
  {
   "cell_type": "markdown",
   "metadata": {},
   "source": [
    "<a class=\"anchor\" id=\"faiss\"></a>\n",
    "\n",
    "## 3.2.  Building FAISS Index"
   ]
  },
  {
   "cell_type": "code",
   "execution_count": null,
   "metadata": {},
   "outputs": [],
   "source": [
    "# Build FAISS index with cosine similarity\n",
    "def build_faiss_index_cosine(chunks):\n",
    "    chunk_embeddings = []\n",
    "    for chunk in chunks:\n",
    "        emb = get_embedding(chunk)  # Your existing embedding function\n",
    "        if emb is not None:\n",
    "            chunk_embeddings.append(np.array(emb).astype('float32'))\n",
    "    embedding_matrix = np.vstack(chunk_embeddings)\n",
    "    embedding_matrix = normalize_embeddings(embedding_matrix)\n",
    "\n",
    "    dim = embedding_matrix.shape[1]\n",
    "    index = faiss.IndexFlatIP(dim)  # Inner Product for cosine similarity\n",
    "    index.add(embedding_matrix)\n",
    "    return index, chunk_embeddings\n"
   ]
  },
  {
   "cell_type": "markdown",
   "metadata": {},
   "source": [
    "<a class=\"anchor\" id=\"index\"></a>\n",
    "\n",
    "## 3.3. Searching the Index"
   ]
  },
  {
   "cell_type": "code",
   "execution_count": null,
   "metadata": {},
   "outputs": [
    {
     "name": "stdout",
     "output_type": "stream",
     "text": [
      "Score: 0.8076, Text: Context\n",
      "Score: 0.8068, Text: What is your task?\n",
      "Score: 0.7799, Text: YOU WILL NEED TO TRAIN THE CHATBOT WITH RELEVANT\n",
      "INFORMATION ABOUT OUR PRODUCTS\n",
      "Here are the key documents you should upload to the chatbot’s system:\n",
      "1. Product Information & Comparisons (“My Savings” & “PPR Evoluir”).*\n",
      "2. Insurance Agent FAQs (common concerns when advising clients).*\n",
      "3. Main Competitors’ Products (comparative analysis with our products).\n",
      "4. Other Relevant Information (Tax, Regulatory Guidelines, Financial Literacy).\n",
      "This allows the chatbot to answer questions, extract information,\n",
      "and provide assistance based on the content of these documents.\n",
      "*Furtherdocumentswillbesharedbyemail.\n",
      "Score: 0.7764, Text: WE CHALLENGE YOUR TEAM TO DEVELOP AN AI-POWERED ASSISTANT TO SUPPORT OUR INSURANCE AGENTS Your chatbot should meet these 3 key goals: Assist in Client Q&A Provide Useful Information Support users with common questions, especially about: Ensure the chatbot delivers instant and accurate product details • Financial Literacy and comparisons, being user friendly: • Insurance Related-Products • Mandatory Product: My Savings It should offer quick and clear access to relevant FAQ’ answers • Optional Product: “PPR Evoluir” (fortheextra mile!) and resources. Enhance Sales Efficiency By handling basic inquiries, the chatbot should allow agents to: • Focus on high-value interactions with clients. •\n",
      "Score: 0.7728, Text: Appendix\n"
     ]
    }
   ],
   "source": [
    "# Search with cosine similarity\n",
    "def search_index_cosine(query, index, chunks, k=5):\n",
    "    query_embedding = get_embedding(query)\n",
    "    if query_embedding is None:\n",
    "        print(\"Failed to get embedding for query.\")\n",
    "        return []\n",
    "    query_vector = np.array(query_embedding).astype('float32').reshape(1, -1)\n",
    "    query_vector /= np.linalg.norm(query_vector)\n",
    "\n",
    "    distances, indices = index.search(query_vector, k)\n",
    "    results = [chunks[i] for i in indices[0] if i < len(chunks)]\n",
    "    similarities = distances[0]  # Cosine similarity scores\n",
    "    return list(zip(results, similarities))\n",
    "\n",
    "# Example usage:\n",
    "index, chunk_embeddings = build_faiss_index_cosine(chunks)\n",
    "results = search_index_cosine(\"your query text here\", index, chunks, k=5)\n",
    "\n",
    "for res, score in results:\n",
    "    print(f\"Score: {score:.4f}, Text: {res}\")"
   ]
  },
  {
   "cell_type": "markdown",
   "metadata": {},
   "source": [
    "<a class=\"anchor\" id=\"chatbot-setup\"></a>\n",
    "\n",
    "# 4. Chatbot  Setup"
   ]
  },
  {
   "cell_type": "markdown",
   "metadata": {},
   "source": [
    "<a class=\"anchor\" id=\"truncation\"></a>\n",
    "\n",
    "## 4.1. Token-Aware Chunk Truncation\n",
    "\n",
    "Slicing chunks by tokens instead of characters, to ensure the integrity of the sentences:"
   ]
  },
  {
   "cell_type": "code",
   "execution_count": 15,
   "metadata": {},
   "outputs": [],
   "source": [
    "def truncate_tokens(text, max_tokens=300):\n",
    "    encoding = tiktoken.encoding_for_model(\"gpt-4o-mini\")\n",
    "    tokens = encoding.encode(text)\n",
    "    return encoding.decode(tokens[:max_tokens])"
   ]
  },
  {
   "cell_type": "markdown",
   "metadata": {},
   "source": [
    "<a class=\"anchor\" id=\"chatbot\"></a>\n",
    "\n",
    "## 4.2. Defining and querying the chatbot\n"
   ]
  },
  {
   "cell_type": "code",
   "execution_count": 16,
   "metadata": {},
   "outputs": [],
   "source": [
    "# --- Function to call chatbot ---\n",
    "def get_chatbot_answer(question, index=index, chunks=chunks, k=5):\n",
    "    retrieved_context = search_index_cosine(question, index, chunks, k=k)\n",
    "    max_tokens = 300  # adjust as needed\n",
    "    context = \"\\n\\n\".join([chunk for chunk, score in retrieved_context])\n",
    "    context = truncate_tokens(context, max_tokens=300)\n",
    "\n",
    "    try:\n",
    "        response = client.chat.completions.create(\n",
    "            model=\"gpt-4o-mini\",\n",
    "            messages=[\n",
    "                {\"role\": \"system\", \"content\": \"You are a sales assistant supporting agents during client interactions. \"\n",
    "                                              \"Your responses are based on Fidelidade's official documentation, the context provided and certified, accurate sources.\"\n",
    "                                              \"Your language is clear, polished, and client-friendly. \"\n",
    "                                              \"If you don't know the answer to a question related to Fidelidade, respond with: \"\n",
    "                                              \"'Thank you for this question. I will cross-check this internally and get back to you to ensure I provide accurate information.' \"\n",
    "                                              \"Your scope is to provide information about Fidelidade's insurance products, their competitors products (comparison) and financial literacy. When answering questions about Financial literacy that are not in the documents, you will cite the source and only use credible portuguese, preferably governamental sources or from public institutions.\"\n",
    "                                              \"If a question is outside your scope, respond with: \"\n",
    "                                              \"'This question is outside of my reach. I would love to help you with questions related to Fidelidade products, their competitors products (comparison) or financial literacy. Can I assist you within those boundaries?'\"\n",
    "                                              \"Answer in the language you were prompted in: if in portuguese, answer with portuguese from Portugal, not Brazil\"\n",
    "                },\n",
    "                {\"role\": \"user\", \"content\": f\"Context:\\n{context}\\n\\nQuestion: {question}\"},\n",
    "            ],\n",
    "            temperature=0.3,  # PREVIOUSLY, IT WASNT EXPLICIT ON THE FUNCTION SO IT WAS AT 1 BY DEFAULT\n",
    "            seed=42,    \n",
    "        )\n",
    "        return response.choices[0].message.content\n",
    "    except Exception as e:\n",
    "        print(f\"Chatbot failed to answer question: {question[:30]}... | Error: {e}\")\n",
    "        return \"\"\n",
    "    \n"
   ]
  },
  {
   "cell_type": "code",
   "execution_count": 17,
   "metadata": {},
   "outputs": [
    {
     "data": {
      "text/plain": [
       "'O Fidelidade Savings, enquanto contrato de seguro de vida, não permite dedução no IRS. As contribuições para seguros de vida não são dedutíveis para efeitos de IRS, ao contrário de outros produtos de poupança ou investimento que possam ter benefícios fiscais. No entanto, é importante considerar que os rendimentos obtidos são tributados em IRS conforme as taxas efetivas mencionadas, dependendo do ano de resgate ou vencimento.\\n\\nSe precisar de mais informações sobre este produto ou outros aspectos relacionados, estou à disposição para ajudar!'"
      ]
     },
     "execution_count": 17,
     "metadata": {},
     "output_type": "execute_result"
    }
   ],
   "source": [
    "get_chatbot_answer(\"O Fidelidade Savings permite dedução no IRS?\")\n",
    "\n",
    "# do not define \"question\" input "
   ]
  },
  {
   "cell_type": "markdown",
   "metadata": {},
   "source": [
    "<a class=\"anchor\" id=\"evaluation\"></a>\n",
    "\n",
    "\n",
    "# 5. Performance evaluation"
   ]
  },
  {
   "cell_type": "markdown",
   "metadata": {},
   "source": [
    "<a class=\"anchor\" id=\"criteria\"></a>\n",
    "\n",
    "## 5.1. Evaluation Criteria\n",
    "\n",
    "To evaluate our chabot's performance, we introduce the `Cosine Similarity` metric. This metric evaluates the cosine of the angle between two vectors, with results ranging from -1 to 1:\n",
    "\n",
    "- `closer to -1`: very dissimilar\n",
    "- `closer to  1`: very similar\n",
    "\n",
    "Function is the defined below:"
   ]
  },
  {
   "cell_type": "code",
   "execution_count": 18,
   "metadata": {},
   "outputs": [],
   "source": [
    "# --- Evaluation function ---\n",
    "def evaluate_similarity(test_dict, label=\"\"):\n",
    "    results = []\n",
    "\n",
    "    print(f\"\\n📂 Starting evaluation for: {label}\")\n",
    "    for question, expected_answer in test_dict.items():\n",
    "        print(f\"\\n🔍 Testing: {question}\")\n",
    "\n",
    "        chatbot_answer = get_chatbot_answer(question)\n",
    "        print(f\"🤖 Chatbot answer: {chatbot_answer[:100]}...\")\n",
    "\n",
    "        expected_embedding = get_embedding(expected_answer)\n",
    "        chatbot_embedding = get_embedding(chatbot_answer)\n",
    "\n",
    "        if expected_embedding and chatbot_embedding:\n",
    "            similarity = cosine_similarity(\n",
    "                [expected_embedding],\n",
    "                [chatbot_embedding]\n",
    "            )[0][0]\n",
    "            print(f\"✅ Cosine similarity: {similarity:.4f}\")\n",
    "            results.append((question, similarity))\n",
    "        else:\n",
    "            print(\"⚠️ Skipping due to missing embeddings.\")\n",
    "            results.append((question, None))\n",
    "\n",
    "    return results"
   ]
  },
  {
   "cell_type": "markdown",
   "metadata": {},
   "source": [
    "<a class=\"anchor\" id=\"testing\"></a>\n",
    "\n",
    "## 5.2. Defining test dictionaries"
   ]
  },
  {
   "cell_type": "code",
   "execution_count": 19,
   "metadata": {},
   "outputs": [],
   "source": [
    "# --- Test dictionaries ---\n",
    "fidelidade_mysavings_test_dict = {\n",
    "    \"O Fidelidade Savings é mais indicado para que perfil de risco?\": \"\"\"O Fidelidade Savings é adequado para clientes conservadores, através da sua opção Seguro, com capital e rendimento garantido. Para clientes que gostam moderadamente do risco, através da opção Proteção com garantia de 90% do capital investido no vencimento e exposição ao Índice Multiativos. Para clientes propensos ao risco através da opção Dinâmico com 100% de exposição ao Índice Multiativos. Também está disponível a opção ESG, que investe no índice Multiativos ESG, com risco mas ESG, para clientes com preocupações Ambientais, Sociais e de Governança.\"\"\",\n",
    "    \"O Fidelidade Savings permite dedução no IRS?\": \"\"\"Não. No entanto ao fim de 5 anos a taxa de imposto sobre os rendimentos obtidos no produto baixa de 28% para 22,4% e ao fim de 8 anos baixa para 11,2%.\"\"\",\n",
    "    \"Tenho de pagar algum imposto sobre os lucros, ou o rendimento já é líquido?\": \"\"\"Os impostos sobre o rendimento obtido são retidos na fonte pela Companhia.\"\"\",\n",
    "    \"Qual é a comissão de gestão anual do Fidelidade Savings?\": \"\"\"Nas opções com risco a comissão de Gestão é no máximo 1,2%. Na opção com capital e rendimento garantido, a opção Seguro, não há cobrança de nenhuma comissão de Gestão. Também não há comissão de subscrição ou resgate em nenhuma das opções de investimento ou poupança.\"\"\",\n",
    "    \"Quais os riscos associados ao Fidelidade Savings para o cliente?\": \"\"\"Depende da opção escolhida. A opção Seguro tem capital e rendimento garantido. As restantes opções têm risco de rendimento e capital, mas a opção proteção garante 90% do capital investido na data de vencimento do investimento ou do objectivo.\"\"\",\n",
    "    \"Posso subscrever e resgatar em qualquer momento?\": \"\"\"Sim posso. Ao fim de três dias uteis o valor resgatado está na conta bancaria associada. Não há encargos de resgate.\"\"\"\n",
    "}\n",
    "\n",
    "fidelidade_pprevoluir_test_dict = {\n",
    "    \"Que tipo de investimento é o PPR Evoluir — Capital e rendimento garantido ou tem risco?\": \"\"\"Ambos. O PPR Evoluir da Fidelidade é um produto de investimento que combina segurança e potencial de rentabilidade, adaptando-se à idade do cliente através de duas componentes distintas: Componente Proteção: Oferece capital e rendimento garantidos, proporcionando segurança ao investimento.; Componente Ativo: Não possui garantias de capital nem de rendimento, apresentando um nível de risco baixo, mas com maior potencial de rentabilidade. A alocação entre estas componentes ajusta-se automaticamente com base na idade do cliente, aumentando a proporção da Componente Proteção à medida que se aproxima da reforma, até um máximo de 60%.\"\"\",\n",
    "    \"Posso escolher a componente que pretendo(Ativo ou Proteção)?\": \"\"\"Não. O contrato apenas admite a recomposição automática, pelo que o Tomador do Seguro não tem direito a alterar a composição do investimento.\"\"\",\n",
    "    \"Existe diferença fiscal entre fazer resgate/reembolso antes ou depois dos 5 anos?\": \"\"\"Sim. Fora das condições legais - resgatar o PPR Evoluir antes dos 5 anos implica uma tributação mais elevada (21,5%). Após os 5 anos, a tributação diminui (Entre 5 e 8 anos: 17,2%; Mais de 8 anos: 8,6%, sendo necessário que 35% das entregas tenham sido feitas nos primeiros 5 anos para beneficiar da taxa reduzida. Dentro das condições legais (resgate a qualquer tempo) – É possível resgatar antes dos 5 anos sem penalizações (8%) se for por um destes motivos legais: o Desemprego de longa duração o Incapacidade permanente o Doença grave sua ou de familiar\"\"\",\n",
    "    \"Se tiver feito uma entrega de 1.000€ há 10 anos e outra de 100.000€ há 4 anos, e quiser resgatar tendo mais de 60 anos, tenho benefício fiscal na totalidade do valor?\": \"\"\"Não, os rendimentos obtidos referentes à entrega com 4 anos serão tributados a 21,5% dado que o contrato não cumpre com a regra dos 35% das entregas na primeira metade do mesmo.\"\"\",\n",
    "    \"Qual é a comissão de gestão anual do PPR Evoluir?\": \"\"\"Depende da componente de Investimento do PPR Evoluir. Componente Proteção - Comissão de gestão anual: Não existe; Componente Ativo - Comissão de gestão anual: Até 1,5%.\"\"\"\n",
    "}"
   ]
  },
  {
   "cell_type": "markdown",
   "metadata": {},
   "source": [
    "<a class=\"anchor\" id=\"results\"></a>\n",
    "\n",
    "## 5.3. Evaluation Results"
   ]
  },
  {
   "cell_type": "code",
   "execution_count": 20,
   "metadata": {},
   "outputs": [
    {
     "name": "stdout",
     "output_type": "stream",
     "text": [
      "\n",
      "📂 Starting evaluation for: Fidelidade MySavings\n",
      "\n",
      "🔍 Testing: O Fidelidade Savings é mais indicado para que perfil de risco?\n",
      "🤖 Chatbot answer: O Fidelidade Savings é mais indicado para investidores com um perfil de risco moderado a elevado. Es...\n",
      "✅ Cosine similarity: 0.9532\n",
      "\n",
      "🔍 Testing: O Fidelidade Savings permite dedução no IRS?\n",
      "🤖 Chatbot answer: O Fidelidade Savings, enquanto contrato de seguro de vida, não permite dedução no IRS. As contribuiç...\n",
      "✅ Cosine similarity: 0.8282\n",
      "\n",
      "🔍 Testing: Tenho de pagar algum imposto sobre os lucros, ou o rendimento já é líquido?\n",
      "🤖 Chatbot answer: Os rendimentos provenientes de produtos de PPR (Planos de Poupança Reforma) em Portugal são tributad...\n",
      "✅ Cosine similarity: 0.8537\n",
      "\n",
      "🔍 Testing: Qual é a comissão de gestão anual do Fidelidade Savings?\n",
      "🤖 Chatbot answer: A comissão de gestão anual do Fidelidade Savings varia consoante a opção escolhida. Para as Opções P...\n",
      "✅ Cosine similarity: 0.9183\n",
      "\n",
      "🔍 Testing: Quais os riscos associados ao Fidelidade Savings para o cliente?\n",
      "🤖 Chatbot answer: Os riscos associados ao Fidelidade Savings para o cliente incluem:\n",
      "\n",
      "1. **Risco de Mercado**: Os inve...\n",
      "✅ Cosine similarity: 0.8710\n",
      "\n",
      "🔍 Testing: Posso subscrever e resgatar em qualquer momento?\n",
      "🤖 Chatbot answer: Sim, pode subscrever o Fidelidade Savings e resgatar total ou parcialmente os seus Objetivos a qualq...\n",
      "✅ Cosine similarity: 0.8812\n",
      "\n",
      "📂 Starting evaluation for: PPR Evoluir\n",
      "\n",
      "🔍 Testing: Que tipo de investimento é o PPR Evoluir — Capital e rendimento garantido ou tem risco?\n",
      "🤖 Chatbot answer: O PPR Evoluir é um produto híbrido que combina características de capital e rendimento garantido com...\n",
      "✅ Cosine similarity: 0.9388\n",
      "\n",
      "🔍 Testing: Posso escolher a componente que pretendo(Ativo ou Proteção)?\n",
      "🤖 Chatbot answer: No caso dos Planos PPR da Fidelidade, a alocação percentual dos prémios pagos entre as duas Componen...\n",
      "✅ Cosine similarity: 0.8300\n",
      "\n",
      "🔍 Testing: Existe diferença fiscal entre fazer resgate/reembolso antes ou depois dos 5 anos?\n",
      "🤖 Chatbot answer: Sim, existe uma diferença fiscal significativa entre realizar um resgate ou reembolso antes ou depoi...\n",
      "✅ Cosine similarity: 0.9191\n",
      "\n",
      "🔍 Testing: Se tiver feito uma entrega de 1.000€ há 10 anos e outra de 100.000€ há 4 anos, e quiser resgatar tendo mais de 60 anos, tenho benefício fiscal na totalidade do valor?\n",
      "🤖 Chatbot answer: Para determinar se tem benefício fiscal na totalidade do valor a resgatar, é importante considerar a...\n",
      "✅ Cosine similarity: 0.8461\n",
      "\n",
      "🔍 Testing: Qual é a comissão de gestão anual do PPR Evoluir?\n",
      "🤖 Chatbot answer: A comissão de gestão anual do PPR Evoluir é de 0,50%. Se precisar de mais informações sobre este pro...\n",
      "✅ Cosine similarity: 0.9012\n",
      "\n",
      "📊 Evaluation Summary: Fidelidade MySavings\n",
      "- O Fidelidade Savings é mais indicado par... → Similarity: 0.9532\n",
      "- O Fidelidade Savings permite dedução no ... → Similarity: 0.8282\n",
      "- Tenho de pagar algum imposto sobre os lu... → Similarity: 0.8537\n",
      "- Qual é a comissão de gestão anual do Fid... → Similarity: 0.9183\n",
      "- Quais os riscos associados ao Fidelidade... → Similarity: 0.8710\n",
      "- Posso subscrever e resgatar em qualquer ... → Similarity: 0.8812\n",
      "\n",
      "📊 Evaluation Summary: PPR Evoluir\n",
      "- Que tipo de investimento é o PPR Evoluir... → Similarity: 0.9388\n",
      "- Posso escolher a componente que pretendo... → Similarity: 0.8300\n",
      "- Existe diferença fiscal entre fazer resg... → Similarity: 0.9191\n",
      "- Se tiver feito uma entrega de 1.000€ há ... → Similarity: 0.8461\n",
      "- Qual é a comissão de gestão anual do PPR... → Similarity: 0.9012\n"
     ]
    }
   ],
   "source": [
    "## temperature = 0.3\n",
    "\n",
    "\n",
    "# --- Run evaluation for both dictionaries ---\n",
    "results_savings = evaluate_similarity(fidelidade_mysavings_test_dict, label=\"Fidelidade MySavings\")\n",
    "results_ppr = evaluate_similarity(fidelidade_pprevoluir_test_dict, label=\"PPR Evoluir\")\n",
    "\n",
    "# --- Summary ---\n",
    "print(\"\\n📊 Evaluation Summary: Fidelidade MySavings\")\n",
    "for q, sim in results_savings:\n",
    "    print(f\"- {q[:40]}... → Similarity: {sim:.4f}\" if sim else f\"- {q[:40]}... → Skipped\")\n",
    "\n",
    "print(\"\\n📊 Evaluation Summary: PPR Evoluir\")\n",
    "for q, sim in results_ppr:\n",
    "    print(f\"- {q[:40]}... → Similarity: {sim:.4f}\" if sim else f\"- {q[:40]}... → Skipped\")"
   ]
  },
  {
   "cell_type": "markdown",
   "metadata": {},
   "source": [
    "<a class=\"anchor\" id=\"export\"></a>\n",
    "\n",
    "# 6. Exporting variables for interface"
   ]
  },
  {
   "cell_type": "code",
   "execution_count": 21,
   "metadata": {},
   "outputs": [],
   "source": [
    "import pickle\n",
    "\n",
    "with open(\"chunks.pkl\", \"wb\") as f:\n",
    "    pickle.dump(chunks, f)\n"
   ]
  },
  {
   "cell_type": "code",
   "execution_count": 22,
   "metadata": {},
   "outputs": [],
   "source": [
    "import faiss\n",
    "\n",
    "faiss.write_index(index, \"faiss_index.index\")\n"
   ]
  }
 ],
 "metadata": {
  "kernelspec": {
   "display_name": "base",
   "language": "python",
   "name": "python3"
  },
  "language_info": {
   "codemirror_mode": {
    "name": "ipython",
    "version": 3
   },
   "file_extension": ".py",
   "mimetype": "text/x-python",
   "name": "python",
   "nbconvert_exporter": "python",
   "pygments_lexer": "ipython3",
   "version": "3.12.3"
  }
 },
 "nbformat": 4,
 "nbformat_minor": 2
}
